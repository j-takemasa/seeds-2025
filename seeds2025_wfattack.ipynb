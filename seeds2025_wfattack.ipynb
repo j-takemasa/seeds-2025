{
  "nbformat": 4,
  "nbformat_minor": 0,
  "metadata": {
    "colab": {
      "provenance": [],
      "gpuType": "T4"
    },
    "kernelspec": {
      "name": "python3",
      "display_name": "Python 3"
    },
    "language_info": {
      "name": "python"
    },
    "accelerator": "GPU"
  },
  "cells": [
    {
      "cell_type": "markdown",
      "source": [
        "[![Open In Colab](https://colab.research.google.com/assets/colab-badge.svg)](https://colab.research.google.com/github/j-takemasa/seeds-2025/blob/main/seeds2025_wfattack.ipynb)"
      ],
      "metadata": {
        "id": "oa_3cHO9AT8B"
      }
    },
    {
      "cell_type": "markdown",
      "source": [
        "# 関数、ライブラリの定義\n",
        "\n",
        "コードを実行するだけでよい。"
      ],
      "metadata": {
        "id": "3qPb2tpzwDea"
      }
    },
    {
      "cell_type": "code",
      "source": [
        "#はじめに実行(一回だけ実行すれば良い)\n",
        "!pip install scapy\n",
        "# DF model used for non-defended dataset\n",
        "from keras.models import Sequential\n",
        "from keras.layers import Conv1D, MaxPooling1D, BatchNormalization\n",
        "from keras.layers import Activation, Flatten, Dense, Dropout, ELU\n",
        "from keras.initializers import glorot_uniform\n",
        "\n",
        "import os\n",
        "import sys\n",
        "import numpy as np\n",
        "from scapy.all import rdpcap\n",
        "import tensorflow as tf\n",
        "from tqdm import tqdm\n",
        "import matplotlib.pyplot as plt\n",
        "\n",
        "def extract_features(packet_file):\n",
        "    packet_sizes = []\n",
        "    timestamps = []\n",
        "    packets = rdpcap(packet_file)\n",
        "    start_time = None\n",
        "    cumm_sizes = 0\n",
        "    for packet in packets:\n",
        "        if packet.haslayer(\"IP\") and (packet.haslayer(\"TCP\") or packet.haslayer(\"UDP\")):\n",
        "            if start_time is None:\n",
        "                start_time = packet.time\n",
        "            if packet.haslayer(\"TCP\"):\n",
        "                # packet_sizes.append(len(packet['TCP'].payload))\n",
        "                cumm_sizes += len(packet['TCP'].payload)\n",
        "                packet_sizes.append(cumm_sizes)\n",
        "                timestamps.append(packet.time - start_time)  # 最初のパケットのタイムスタンプからの経過時間を計算\n",
        "            elif packet.haslayer(\"UDP\") and packet['UDP'].dport == 443:  # QUICの場合\n",
        "                cumm_sizes += len(packet['UDP'].payload)\n",
        "                packet_sizes.append(cumm_sizes)\n",
        "                timestamps.append(packet.time - start_time)  # 最初のパケットのタイムスタンプからの経過時間を計算\n",
        "    return np.array(packet_sizes), np.array(timestamps)\n",
        "\n",
        "def create_training_data(max_packet_length,sites,pcap_file_num,pcap_dir):\n",
        "    data = []\n",
        "    labels = []\n",
        "    # global max_packet_length\n",
        "    print(\"訓練用データ作成中...\")\n",
        "    for site in sites:\n",
        "        print(site)\n",
        "        for i in tqdm(range(0, pcap_file_num)):\n",
        "            # packet_file = f'{pcap_dir}/output_www_{site}_com_{i}.pcap'\n",
        "            # packet_file = f'{pcap_dir}/{site}-pcaplist/{site}{i}.pcap'\n",
        "            packet_file = f'{pcap_dir}/{site}/{i}.pcap'\n",
        "            packet_sizes, timestamps = extract_features(packet_file)\n",
        "            # パケットサイズが最大長を超える場合は切り捨て\n",
        "            if len(packet_sizes) > max_packet_length:\n",
        "                packet_sizes = packet_sizes[:max_packet_length]\n",
        "                timestamps = timestamps[:max_packet_length]\n",
        "            data.append((packet_sizes, timestamps))  # パケットサイズとタイムスタンプをタプルとして保存\n",
        "            labels.append(site)\n",
        "\n",
        "    # ゼロパディングを行い、特徴量を作成\n",
        "    padded_data = []\n",
        "    for packet_sizes, timestamps in data:\n",
        "        pad_length = max_packet_length - len(packet_sizes)\n",
        "        padded_packet_sizes = np.pad(packet_sizes, (0, pad_length), mode='constant')\n",
        "        padded_timestamps = np.pad(timestamps, (0, pad_length), mode='constant')\n",
        "        padded_features = np.column_stack((padded_packet_sizes, padded_timestamps))\n",
        "        padded_data.append(padded_features)\n",
        "\n",
        "    return np.array(padded_data), np.array(labels)\n",
        "\n",
        "def convert_to_numeric(data):\n",
        "    numeric_data = []\n",
        "    for entry in data:\n",
        "        numeric_entry = np.array(entry, dtype=np.float32)\n",
        "        numeric_data.append(numeric_entry)\n",
        "    return np.array(numeric_data)\n",
        "\n",
        "#はじめに実行\n",
        "from google.colab import drive\n",
        "drive.mount('/content/drive')\n",
        "\n",
        "pcap_file_num = 30\n",
        "EPOCHS = 70\n",
        "max_packet_length = 5000  # 定数値を設定"
      ],
      "metadata": {
        "colab": {
          "base_uri": "https://localhost:8080/"
        },
        "id": "TDe-rdomikHr",
        "outputId": "575596f4-ef5a-4b11-c8fe-a08705f70d55"
      },
      "execution_count": 13,
      "outputs": [
        {
          "output_type": "stream",
          "name": "stdout",
          "text": [
            "Requirement already satisfied: scapy in /usr/local/lib/python3.12/dist-packages (2.6.1)\n",
            "Drive already mounted at /content/drive; to attempt to forcibly remount, call drive.mount(\"/content/drive\", force_remount=True).\n"
          ]
        }
      ]
    },
    {
      "cell_type": "markdown",
      "source": [
        "# 計測したパケット列を Google Drive にアップロードしよう\n",
        "- GoogleDriveを開き、\"seeds-25\"というフォルダを作成\n",
        "- \"seeds-25\"に移動し、計測したパケット列をここに保存\n",
        "- 赤い文字でエラーが出たら、教員に申し出ること"
      ],
      "metadata": {
        "id": "fyvbymSwiH_C"
      }
    },
    {
      "cell_type": "code",
      "source": [
        "!ls /content/drive/MyDrive/seeds-25/dataset\n",
        "pcap_dir = \"/content/drive/MyDrive/seeds-25/dataset\"\n",
        "sites = os.listdir(pcap_dir)\n",
        "print(sites)"
      ],
      "metadata": {
        "id": "L6S4v3svcJuA",
        "colab": {
          "base_uri": "https://localhost:8080/"
        },
        "outputId": "ea4e8ce4-3621-4b43-fed7-aba5cc1ed96a"
      },
      "execution_count": 14,
      "outputs": [
        {
          "output_type": "stream",
          "name": "stdout",
          "text": [
            "amazonjp  baidu  googlejp  osakau  rakuten\n",
            "['amazonjp', 'googlejp', 'baidu', 'osakau', 'rakuten']\n"
          ]
        }
      ]
    },
    {
      "cell_type": "markdown",
      "source": [
        "# 特徴量を抽出し、可視化しょう\n",
        "- 累積パケットサイズの時系列変化を、特徴量として使います。\n",
        "- 上述の、各サイト名を sitesの要素として、入力してください。\n",
        "  - 例: amazon, baidu, googlejp,osakau,rakuten の場合は、以下の通り。適宜、変更してください。\n"
      ],
      "metadata": {
        "id": "PhedkTY1IYkp"
      }
    },
    {
      "cell_type": "code",
      "source": [
        "features = {}\n",
        "for site in sites:\n",
        "  features[site] = {}\n",
        "  path = \"/content/drive/MyDrive/seeds-25/dataset/\"+site+\"/0.pcap\"\n",
        "  features[site][\"size\"], features[site][\"timestamp\"]  =  extract_features(path)\n",
        "\n",
        "for site in sites:\n",
        "  x = features[site][\"size\"]\n",
        "  y = features[site][\"timestamp\"]\n",
        "  plt.plot(x,y,label=site)\n",
        "\n",
        "plt.legend()\n",
        "plt.xlabel(\"Time\")\n",
        "plt.ylabel(\"Accumulated Packet Size\")\n",
        "\n",
        "plt.savefig(\"/content/drive/MyDrive/seeds-25/features_graph.pdf\")\n",
        "plt.savefig(\"/content/drive/MyDrive/seeds-25/features_graph.png\")\n",
        "plt.show()"
      ],
      "metadata": {
        "colab": {
          "base_uri": "https://localhost:8080/",
          "height": 449
        },
        "id": "9s3KngzvITgp",
        "outputId": "d1cf2930-e90e-47da-efbb-510b41383de8"
      },
      "execution_count": 10,
      "outputs": [
        {
          "output_type": "display_data",
          "data": {
            "text/plain": [
              "<Figure size 640x480 with 1 Axes>"
            ],
            "image/png": "[encoded data removed]"
          },
          "metadata": {}
        }
      ]
    },
    {
      "cell_type": "markdown",
      "source": [
        "# AIモデルの定義\n",
        "- 今回は、畳み込みニューラルネットワーク (Convolutional Neural Network: CNN)を使います\n"
      ],
      "metadata": {
        "id": "pzT_NmQlpcfw"
      }
    },
    {
      "cell_type": "code",
      "source": [
        "class DFNet:\n",
        "    @staticmethod\n",
        "    def build(input_shape, classes):\n",
        "        model = Sequential()\n",
        "        #Block1\n",
        "        filter_num = ['None',32,64,128,256]\n",
        "        kernel_size = ['None',8,8,8,8]\n",
        "        conv_stride_size = ['None',1,1,1,1]\n",
        "        pool_stride_size = ['None',4,4,4,4]\n",
        "        pool_size = ['None',8,8,8,8]\n",
        "\n",
        "        model.add(Conv1D(filters=filter_num[1], kernel_size=kernel_size[1], input_shape=input_shape,\n",
        "                         strides=conv_stride_size[1], padding='same',\n",
        "                         name='block1_conv1'))\n",
        "        model.add(BatchNormalization(axis=-1))\n",
        "        model.add(ELU(alpha=1.0, name='block1_adv_act1'))\n",
        "        model.add(Conv1D(filters=filter_num[1], kernel_size=kernel_size[1],\n",
        "                         strides=conv_stride_size[1], padding='same',\n",
        "                         name='block1_conv2'))\n",
        "        model.add(BatchNormalization(axis=-1))\n",
        "        model.add(ELU(alpha=1.0, name='block1_adv_act2'))\n",
        "        model.add(MaxPooling1D(pool_size=pool_size[1], strides=pool_stride_size[1],\n",
        "                               padding='same', name='block1_pool'))\n",
        "        model.add(Dropout(0.1, name='block1_dropout'))\n",
        "\n",
        "        model.add(Conv1D(filters=filter_num[2], kernel_size=kernel_size[2],\n",
        "                         strides=conv_stride_size[2], padding='same',\n",
        "                         name='block2_conv1'))\n",
        "        model.add(BatchNormalization())\n",
        "        model.add(Activation('relu', name='block2_act1'))\n",
        "\n",
        "        model.add(Conv1D(filters=filter_num[2], kernel_size=kernel_size[2],\n",
        "                         strides=conv_stride_size[2], padding='same',\n",
        "                         name='block2_conv2'))\n",
        "        model.add(BatchNormalization())\n",
        "        model.add(Activation('relu', name='block2_act2'))\n",
        "        model.add(MaxPooling1D(pool_size=pool_size[2], strides=pool_stride_size[3],\n",
        "                               padding='same', name='block2_pool'))\n",
        "        model.add(Dropout(0.1, name='block2_dropout'))\n",
        "\n",
        "        model.add(Conv1D(filters=filter_num[3], kernel_size=kernel_size[3],\n",
        "                         strides=conv_stride_size[3], padding='same',\n",
        "                         name='block3_conv1'))\n",
        "        model.add(BatchNormalization())\n",
        "        model.add(Activation('relu', name='block3_act1'))\n",
        "        model.add(Conv1D(filters=filter_num[3], kernel_size=kernel_size[3],\n",
        "                         strides=conv_stride_size[3], padding='same',\n",
        "                         name='block3_conv2'))\n",
        "        model.add(BatchNormalization())\n",
        "        model.add(Activation('relu', name='block3_act2'))\n",
        "        model.add(MaxPooling1D(pool_size=pool_size[3], strides=pool_stride_size[3],\n",
        "                               padding='same', name='block3_pool'))\n",
        "        model.add(Dropout(0.1, name='block3_dropout'))\n",
        "\n",
        "        model.add(Conv1D(filters=filter_num[4], kernel_size=kernel_size[4],\n",
        "                         strides=conv_stride_size[4], padding='same',\n",
        "                         name='block4_conv1'))\n",
        "        model.add(BatchNormalization())\n",
        "        model.add(Activation('relu', name='block4_act1'))\n",
        "        model.add(Conv1D(filters=filter_num[4], kernel_size=kernel_size[4],\n",
        "                         strides=conv_stride_size[4], padding='same',\n",
        "                         name='block4_conv2'))\n",
        "        model.add(BatchNormalization())\n",
        "        model.add(Activation('relu', name='block4_act2'))\n",
        "        model.add(MaxPooling1D(pool_size=pool_size[4], strides=pool_stride_size[4],\n",
        "                               padding='same', name='block4_pool'))\n",
        "        model.add(Dropout(0.1, name='block4_dropout'))\n",
        "\n",
        "        model.add(Flatten(name='flatten'))\n",
        "        model.add(Dense(512, kernel_initializer=glorot_uniform(seed=0), name='fc1'))\n",
        "        model.add(BatchNormalization())\n",
        "        model.add(Activation('relu', name='fc1_act'))\n",
        "\n",
        "        model.add(Dropout(0.7, name='fc1_dropout'))\n",
        "\n",
        "        model.add(Dense(512, kernel_initializer=glorot_uniform(seed=0), name='fc2'))\n",
        "        model.add(BatchNormalization())\n",
        "        model.add(Activation('relu', name='fc2_act'))\n",
        "\n",
        "        model.add(Dropout(0.5, name='fc2_dropout'))\n",
        "\n",
        "        model.add(Dense(classes, kernel_initializer=glorot_uniform(seed=0), name='fc3'))\n",
        "        model.add(Activation('softmax', name=\"softmax\"))\n",
        "        return model"
      ],
      "metadata": {
        "id": "R_HQNxFcjIgG"
      },
      "execution_count": 15,
      "outputs": []
    },
    {
      "cell_type": "markdown",
      "source": [
        "# AIモデルの訓練用データを作成しよう"
      ],
      "metadata": {
        "id": "C6nXteNNqz2D"
      }
    },
    {
      "cell_type": "code",
      "source": [
        "# scapyによる特徴量抽出(一回だけ実行すれば良い)\n",
        "# 学習データとラベルを取得\n",
        "training_data, labels = create_training_data(max_packet_length,sites,pcap_file_num,pcap_dir)\n",
        "# training_data, labels = create_training_data()\n",
        "print()\n",
        "print(training_data.shape)\n",
        "print(labels.shape)\n",
        "numeric_training_data = convert_to_numeric(training_data)"
      ],
      "metadata": {
        "colab": {
          "base_uri": "https://localhost:8080/"
        },
        "id": "4RJ_OnL5qD-I",
        "outputId": "ad9a42e5-7807-4f4a-f0af-a0b886085519"
      },
      "execution_count": 16,
      "outputs": [
        {
          "output_type": "stream",
          "name": "stdout",
          "text": [
            "訓練用データ作成中...\n",
            "amazonjp\n"
          ]
        },
        {
          "output_type": "stream",
          "name": "stderr",
          "text": [
            "100%|██████████| 30/30 [00:36<00:00,  1.20s/it]\n"
          ]
        },
        {
          "output_type": "stream",
          "name": "stdout",
          "text": [
            "googlejp\n"
          ]
        },
        {
          "output_type": "stream",
          "name": "stderr",
          "text": [
            "100%|██████████| 30/30 [00:27<00:00,  1.10it/s]\n"
          ]
        },
        {
          "output_type": "stream",
          "name": "stdout",
          "text": [
            "baidu\n"
          ]
        },
        {
          "output_type": "stream",
          "name": "stderr",
          "text": [
            "100%|██████████| 30/30 [00:25<00:00,  1.16it/s]\n"
          ]
        },
        {
          "output_type": "stream",
          "name": "stdout",
          "text": [
            "osakau\n"
          ]
        },
        {
          "output_type": "stream",
          "name": "stderr",
          "text": [
            "100%|██████████| 30/30 [01:27<00:00,  2.93s/it]\n"
          ]
        },
        {
          "output_type": "stream",
          "name": "stdout",
          "text": [
            "rakuten\n"
          ]
        },
        {
          "output_type": "stream",
          "name": "stderr",
          "text": [
            "100%|██████████| 30/30 [00:53<00:00,  1.78s/it]\n"
          ]
        },
        {
          "output_type": "stream",
          "name": "stdout",
          "text": [
            "\n",
            "(150, 5000, 2)\n",
            "(150,)\n"
          ]
        }
      ]
    },
    {
      "cell_type": "markdown",
      "source": [
        "# AIモデルを訓練しよう\n",
        "- 今回は、全データのうち、80%を訓練用に、残りの20%をテスト用に利用します"
      ],
      "metadata": {
        "id": "Yn_vQSaNtUfL"
      }
    },
    {
      "cell_type": "code",
      "source": [
        "# TensorFlowモデルの学習\n",
        "from sklearn.preprocessing import LabelEncoder\n",
        "from sklearn.model_selection import train_test_split\n",
        "from tensorflow.keras.models import Sequential\n",
        "from tensorflow.keras.layers import Dense, LSTM\n",
        "from tensorflow.keras.utils import to_categorical\n",
        "\n",
        "# ラベルを数値にエンコード\n",
        "label_encoder = LabelEncoder()\n",
        "encoded_labels = label_encoder.fit_transform(labels)\n",
        "\n",
        "# データの前処理\n",
        "X_train, X_test, y_train, y_test = train_test_split(numeric_training_data, encoded_labels, test_size=0.2, random_state=42, stratify=encoded_labels)\n",
        "\n",
        "# ラベルをone-hotエンコーディング\n",
        "y_train_cat = to_categorical(y_train)\n",
        "y_test_cat = to_categorical(y_test)\n",
        "\n",
        "from keras.optimizers import Adamax\n",
        "\n",
        "INPUT_SHAPE = (max_packet_length,2)\n",
        "NB_CLASSES = len(sites)\n",
        "OPTIMIZER = tf.keras.optimizers.Adamax(learning_rate=0.002, beta_1=0.9, beta_2=0.999, epsilon=1e-08) # Optimizer\n",
        "\n",
        "# モデルの構築\n",
        "model = DFNet.build(input_shape=INPUT_SHAPE, classes=NB_CLASSES)\n",
        "model.compile(loss=\"categorical_crossentropy\", optimizer=OPTIMIZER, metrics=[\"accuracy\"])\n",
        "print (\"Model compiled\")\n",
        "\n",
        "print(X_train.shape)\n",
        "print(y_train_cat.shape)\n",
        "\n",
        "# モデルの学習\n",
        "model.fit(X_train, y_train_cat, epochs=EPOCHS, batch_size=32, validation_data=(X_test, y_test_cat))\n",
        "\n",
        "# モデルの評価\n",
        "loss, accuracy = model.evaluate(X_test, y_test_cat)\n",
        "print('Test Loss:', loss)\n",
        "print('Test Accuracy:', accuracy)"
      ],
      "metadata": {
        "colab": {
          "base_uri": "https://localhost:8080/"
        },
        "id": "8szHIFILo2SD",
        "outputId": "59044bce-2ee0-468a-be3b-60ab44f6bfbb"
      },
      "execution_count": 17,
      "outputs": [
        {
          "output_type": "stream",
          "name": "stderr",
          "text": [
            "/usr/local/lib/python3.12/dist-packages/keras/src/layers/convolutional/base_conv.py:113: UserWarning: Do not pass an `input_shape`/`input_dim` argument to a layer. When using Sequential models, prefer using an `Input(shape)` object as the first layer in the model instead.\n",
            "  super().__init__(activity_regularizer=activity_regularizer, **kwargs)\n"
          ]
        },
        {
          "output_type": "stream",
          "name": "stdout",
          "text": [
            "Model compiled\n",
            "(120, 5000, 2)\n",
            "(120, 5)\n",
            "Epoch 1/70\n",
            "\u001b[1m4/4\u001b[0m \u001b[32m━━━━━━━━━━━━━━━━━━━━\u001b[0m\u001b[37m\u001b[0m \u001b[1m41s\u001b[0m 5s/step - accuracy: 0.2800 - loss: 2.3731 - val_accuracy: 0.6000 - val_loss: 8.2615\n",
            "Epoch 2/70\n",
            "\u001b[1m4/4\u001b[0m \u001b[32m━━━━━━━━━━━━━━━━━━━━\u001b[0m\u001b[37m\u001b[0m \u001b[1m11s\u001b[0m 68ms/step - accuracy: 0.6590 - loss: 0.7934 - val_accuracy: 0.7667 - val_loss: 18.5260\n",
            "Epoch 3/70\n",
            "\u001b[1m4/4\u001b[0m \u001b[32m━━━━━━━━━━━━━━━━━━━━\u001b[0m\u001b[37m\u001b[0m \u001b[1m0s\u001b[0m 47ms/step - accuracy: 0.8148 - loss: 0.4514 - val_accuracy: 0.7667 - val_loss: 20.3470\n",
            "Epoch 4/70\n",
            "\u001b[1m4/4\u001b[0m \u001b[32m━━━━━━━━━━━━━━━━━━━━\u001b[0m\u001b[37m\u001b[0m \u001b[1m0s\u001b[0m 57ms/step - accuracy: 0.8931 - loss: 0.3337 - val_accuracy: 0.7667 - val_loss: 17.3095\n",
            "Epoch 5/70\n",
            "\u001b[1m4/4\u001b[0m \u001b[32m━━━━━━━━━━━━━━━━━━━━\u001b[0m\u001b[37m\u001b[0m \u001b[1m0s\u001b[0m 57ms/step - accuracy: 0.9327 - loss: 0.2981 - val_accuracy: 0.7667 - val_loss: 15.0574\n",
            "Epoch 6/70\n",
            "\u001b[1m4/4\u001b[0m \u001b[32m━━━━━━━━━━━━━━━━━━━━\u001b[0m\u001b[37m\u001b[0m \u001b[1m0s\u001b[0m 45ms/step - accuracy: 0.9627 - loss: 0.2056 - val_accuracy: 0.7667 - val_loss: 12.8179\n",
            "Epoch 7/70\n",
            "\u001b[1m4/4\u001b[0m \u001b[32m━━━━━━━━━━━━━━━━━━━━\u001b[0m\u001b[37m\u001b[0m \u001b[1m0s\u001b[0m 44ms/step - accuracy: 0.9767 - loss: 0.0870 - val_accuracy: 0.8000 - val_loss: 10.2341\n",
            "Epoch 8/70\n",
            "\u001b[1m4/4\u001b[0m \u001b[32m━━━━━━━━━━━━━━━━━━━━\u001b[0m\u001b[37m\u001b[0m \u001b[1m0s\u001b[0m 44ms/step - accuracy: 0.9625 - loss: 0.1891 - val_accuracy: 0.8000 - val_loss: 7.1437\n",
            "Epoch 9/70\n",
            "\u001b[1m4/4\u001b[0m \u001b[32m━━━━━━━━━━━━━━━━━━━━\u001b[0m\u001b[37m\u001b[0m \u001b[1m0s\u001b[0m 44ms/step - accuracy: 0.9798 - loss: 0.1726 - val_accuracy: 0.8000 - val_loss: 4.8715\n",
            "Epoch 10/70\n",
            "\u001b[1m4/4\u001b[0m \u001b[32m━━━━━━━━━━━━━━━━━━━━\u001b[0m\u001b[37m\u001b[0m \u001b[1m0s\u001b[0m 42ms/step - accuracy: 0.9767 - loss: 0.1938 - val_accuracy: 0.8000 - val_loss: 3.4083\n",
            "Epoch 11/70\n",
            "\u001b[1m4/4\u001b[0m \u001b[32m━━━━━━━━━━━━━━━━━━━━\u001b[0m\u001b[37m\u001b[0m \u001b[1m0s\u001b[0m 42ms/step - accuracy: 0.9785 - loss: 0.1333 - val_accuracy: 0.8000 - val_loss: 2.2777\n",
            "Epoch 12/70\n",
            "\u001b[1m4/4\u001b[0m \u001b[32m━━━━━━━━━━━━━━━━━━━━\u001b[0m\u001b[37m\u001b[0m \u001b[1m0s\u001b[0m 41ms/step - accuracy: 0.9860 - loss: 0.0789 - val_accuracy: 0.8000 - val_loss: 1.5305\n",
            "Epoch 13/70\n",
            "\u001b[1m4/4\u001b[0m \u001b[32m━━━━━━━━━━━━━━━━━━━━\u001b[0m\u001b[37m\u001b[0m \u001b[1m0s\u001b[0m 46ms/step - accuracy: 0.9819 - loss: 0.0870 - val_accuracy: 0.8000 - val_loss: 0.9582\n",
            "Epoch 14/70\n",
            "\u001b[1m4/4\u001b[0m \u001b[32m━━━━━━━━━━━━━━━━━━━━\u001b[0m\u001b[37m\u001b[0m \u001b[1m0s\u001b[0m 55ms/step - accuracy: 0.9860 - loss: 0.1122 - val_accuracy: 0.8333 - val_loss: 0.6050\n",
            "Epoch 15/70\n",
            "\u001b[1m4/4\u001b[0m \u001b[32m━━━━━━━━━━━━━━━━━━━━\u001b[0m\u001b[37m\u001b[0m \u001b[1m0s\u001b[0m 42ms/step - accuracy: 0.9827 - loss: 0.0685 - val_accuracy: 0.9333 - val_loss: 0.3646\n",
            "Epoch 16/70\n",
            "\u001b[1m4/4\u001b[0m \u001b[32m━━━━━━━━━━━━━━━━━━━━\u001b[0m\u001b[37m\u001b[0m \u001b[1m0s\u001b[0m 42ms/step - accuracy: 0.9615 - loss: 0.1119 - val_accuracy: 1.0000 - val_loss: 0.3189\n",
            "Epoch 17/70\n",
            "\u001b[1m4/4\u001b[0m \u001b[32m━━━━━━━━━━━━━━━━━━━━\u001b[0m\u001b[37m\u001b[0m \u001b[1m0s\u001b[0m 44ms/step - accuracy: 0.9967 - loss: 0.0348 - val_accuracy: 1.0000 - val_loss: 0.3340\n",
            "Epoch 18/70\n",
            "\u001b[1m4/4\u001b[0m \u001b[32m━━━━━━━━━━━━━━━━━━━━\u001b[0m\u001b[37m\u001b[0m \u001b[1m0s\u001b[0m 41ms/step - accuracy: 0.9775 - loss: 0.0949 - val_accuracy: 1.0000 - val_loss: 0.3771\n",
            "Epoch 19/70\n",
            "\u001b[1m4/4\u001b[0m \u001b[32m━━━━━━━━━━━━━━━━━━━━\u001b[0m\u001b[37m\u001b[0m \u001b[1m0s\u001b[0m 54ms/step - accuracy: 0.9798 - loss: 0.0735 - val_accuracy: 0.9667 - val_loss: 0.4441\n",
            "Epoch 20/70\n",
            "\u001b[1m4/4\u001b[0m \u001b[32m━━━━━━━━━━━━━━━━━━━━\u001b[0m\u001b[37m\u001b[0m \u001b[1m0s\u001b[0m 57ms/step - accuracy: 0.9913 - loss: 0.0377 - val_accuracy: 0.8667 - val_loss: 0.4976\n",
            "Epoch 21/70\n",
            "\u001b[1m4/4\u001b[0m \u001b[32m━━━━━━━━━━━━━━━━━━━━\u001b[0m\u001b[37m\u001b[0m \u001b[1m0s\u001b[0m 44ms/step - accuracy: 0.9819 - loss: 0.0898 - val_accuracy: 0.8000 - val_loss: 0.5197\n",
            "Epoch 22/70\n",
            "\u001b[1m4/4\u001b[0m \u001b[32m━━━━━━━━━━━━━━━━━━━━\u001b[0m\u001b[37m\u001b[0m \u001b[1m0s\u001b[0m 45ms/step - accuracy: 0.9860 - loss: 0.0795 - val_accuracy: 0.8000 - val_loss: 0.5475\n",
            "Epoch 23/70\n",
            "\u001b[1m4/4\u001b[0m \u001b[32m━━━━━━━━━━━━━━━━━━━━\u001b[0m\u001b[37m\u001b[0m \u001b[1m0s\u001b[0m 58ms/step - accuracy: 0.9767 - loss: 0.0523 - val_accuracy: 0.8000 - val_loss: 0.5454\n",
            "Epoch 24/70\n",
            "\u001b[1m4/4\u001b[0m \u001b[32m━━━━━━━━━━━━━━━━━━━━\u001b[0m\u001b[37m\u001b[0m \u001b[1m0s\u001b[0m 45ms/step - accuracy: 0.9946 - loss: 0.0446 - val_accuracy: 0.8000 - val_loss: 0.5494\n",
            "Epoch 25/70\n",
            "\u001b[1m4/4\u001b[0m \u001b[32m━━━━━━━━━━━━━━━━━━━━\u001b[0m\u001b[37m\u001b[0m \u001b[1m0s\u001b[0m 44ms/step - accuracy: 0.9933 - loss: 0.0502 - val_accuracy: 0.8000 - val_loss: 0.5306\n",
            "Epoch 26/70\n",
            "\u001b[1m4/4\u001b[0m \u001b[32m━━━━━━━━━━━━━━━━━━━━\u001b[0m\u001b[37m\u001b[0m \u001b[1m0s\u001b[0m 56ms/step - accuracy: 0.9913 - loss: 0.0428 - val_accuracy: 0.8000 - val_loss: 0.5133\n",
            "Epoch 27/70\n",
            "\u001b[1m4/4\u001b[0m \u001b[32m━━━━━━━━━━━━━━━━━━━━\u001b[0m\u001b[37m\u001b[0m \u001b[1m0s\u001b[0m 64ms/step - accuracy: 0.9915 - loss: 0.0640 - val_accuracy: 0.8000 - val_loss: 0.5468\n",
            "Epoch 28/70\n",
            "\u001b[1m4/4\u001b[0m \u001b[32m━━━━━━━━━━━━━━━━━━━━\u001b[0m\u001b[37m\u001b[0m \u001b[1m0s\u001b[0m 64ms/step - accuracy: 0.9852 - loss: 0.1380 - val_accuracy: 0.8000 - val_loss: 0.5932\n",
            "Epoch 29/70\n",
            "\u001b[1m4/4\u001b[0m \u001b[32m━━━━━━━━━━━━━━━━━━━━\u001b[0m\u001b[37m\u001b[0m \u001b[1m0s\u001b[0m 62ms/step - accuracy: 0.9796 - loss: 0.0521 - val_accuracy: 0.8000 - val_loss: 0.5496\n",
            "Epoch 30/70\n",
            "\u001b[1m4/4\u001b[0m \u001b[32m━━━━━━━━━━━━━━━━━━━━\u001b[0m\u001b[37m\u001b[0m \u001b[1m0s\u001b[0m 66ms/step - accuracy: 0.9913 - loss: 0.0585 - val_accuracy: 0.8000 - val_loss: 0.4917\n",
            "Epoch 31/70\n",
            "\u001b[1m4/4\u001b[0m \u001b[32m━━━━━━━━━━━━━━━━━━━━\u001b[0m\u001b[37m\u001b[0m \u001b[1m0s\u001b[0m 65ms/step - accuracy: 0.9946 - loss: 0.0360 - val_accuracy: 0.8000 - val_loss: 0.5191\n",
            "Epoch 32/70\n",
            "\u001b[1m4/4\u001b[0m \u001b[32m━━━━━━━━━━━━━━━━━━━━\u001b[0m\u001b[37m\u001b[0m \u001b[1m0s\u001b[0m 65ms/step - accuracy: 0.9852 - loss: 0.0531 - val_accuracy: 0.8000 - val_loss: 0.5758\n",
            "Epoch 33/70\n",
            "\u001b[1m4/4\u001b[0m \u001b[32m━━━━━━━━━━━━━━━━━━━━\u001b[0m\u001b[37m\u001b[0m \u001b[1m0s\u001b[0m 65ms/step - accuracy: 0.9704 - loss: 0.0849 - val_accuracy: 0.8000 - val_loss: 0.5868\n",
            "Epoch 34/70\n",
            "\u001b[1m4/4\u001b[0m \u001b[32m━━━━━━━━━━━━━━━━━━━━\u001b[0m\u001b[37m\u001b[0m \u001b[1m0s\u001b[0m 65ms/step - accuracy: 0.9860 - loss: 0.0691 - val_accuracy: 0.8000 - val_loss: 0.5968\n",
            "Epoch 35/70\n",
            "\u001b[1m4/4\u001b[0m \u001b[32m━━━━━━━━━━━━━━━━━━━━\u001b[0m\u001b[37m\u001b[0m \u001b[1m0s\u001b[0m 58ms/step - accuracy: 1.0000 - loss: 0.0320 - val_accuracy: 0.8000 - val_loss: 0.6208\n",
            "Epoch 36/70\n",
            "\u001b[1m4/4\u001b[0m \u001b[32m━━━━━━━━━━━━━━━━━━━━\u001b[0m\u001b[37m\u001b[0m \u001b[1m0s\u001b[0m 60ms/step - accuracy: 0.9819 - loss: 0.0726 - val_accuracy: 0.8000 - val_loss: 0.6140\n",
            "Epoch 37/70\n",
            "\u001b[1m4/4\u001b[0m \u001b[32m━━━━━━━━━━━━━━━━━━━━\u001b[0m\u001b[37m\u001b[0m \u001b[1m0s\u001b[0m 44ms/step - accuracy: 0.9913 - loss: 0.0250 - val_accuracy: 0.8000 - val_loss: 0.5977\n",
            "Epoch 38/70\n",
            "\u001b[1m4/4\u001b[0m \u001b[32m━━━━━━━━━━━━━━━━━━━━\u001b[0m\u001b[37m\u001b[0m \u001b[1m0s\u001b[0m 45ms/step - accuracy: 0.9852 - loss: 0.0617 - val_accuracy: 0.8000 - val_loss: 0.5945\n",
            "Epoch 39/70\n",
            "\u001b[1m4/4\u001b[0m \u001b[32m━━━━━━━━━━━━━━━━━━━━\u001b[0m\u001b[37m\u001b[0m \u001b[1m0s\u001b[0m 49ms/step - accuracy: 0.9852 - loss: 0.0553 - val_accuracy: 0.8000 - val_loss: 0.5877\n",
            "Epoch 40/70\n",
            "\u001b[1m4/4\u001b[0m \u001b[32m━━━━━━━━━━━━━━━━━━━━\u001b[0m\u001b[37m\u001b[0m \u001b[1m0s\u001b[0m 43ms/step - accuracy: 0.9860 - loss: 0.0548 - val_accuracy: 0.7333 - val_loss: 0.5761\n",
            "Epoch 41/70\n",
            "\u001b[1m4/4\u001b[0m \u001b[32m━━━━━━━━━━━━━━━━━━━━\u001b[0m\u001b[37m\u001b[0m \u001b[1m0s\u001b[0m 41ms/step - accuracy: 1.0000 - loss: 0.0205 - val_accuracy: 0.7667 - val_loss: 0.5106\n",
            "Epoch 42/70\n",
            "\u001b[1m4/4\u001b[0m \u001b[32m━━━━━━━━━━━━━━━━━━━━\u001b[0m\u001b[37m\u001b[0m \u001b[1m0s\u001b[0m 40ms/step - accuracy: 0.9829 - loss: 0.0510 - val_accuracy: 0.8000 - val_loss: 0.6140\n",
            "Epoch 43/70\n",
            "\u001b[1m4/4\u001b[0m \u001b[32m━━━━━━━━━━━━━━━━━━━━\u001b[0m\u001b[37m\u001b[0m \u001b[1m0s\u001b[0m 41ms/step - accuracy: 0.9852 - loss: 0.0524 - val_accuracy: 0.8000 - val_loss: 0.7815\n",
            "Epoch 44/70\n",
            "\u001b[1m4/4\u001b[0m \u001b[32m━━━━━━━━━━━━━━━━━━━━\u001b[0m\u001b[37m\u001b[0m \u001b[1m0s\u001b[0m 42ms/step - accuracy: 0.9819 - loss: 0.0476 - val_accuracy: 0.8000 - val_loss: 0.8675\n",
            "Epoch 45/70\n",
            "\u001b[1m4/4\u001b[0m \u001b[32m━━━━━━━━━━━━━━━━━━━━\u001b[0m\u001b[37m\u001b[0m \u001b[1m0s\u001b[0m 41ms/step - accuracy: 0.9915 - loss: 0.0577 - val_accuracy: 0.8000 - val_loss: 0.9417\n",
            "Epoch 46/70\n",
            "\u001b[1m4/4\u001b[0m \u001b[32m━━━━━━━━━━━━━━━━━━━━\u001b[0m\u001b[37m\u001b[0m \u001b[1m0s\u001b[0m 43ms/step - accuracy: 0.9879 - loss: 0.0413 - val_accuracy: 0.8000 - val_loss: 0.9668\n",
            "Epoch 47/70\n",
            "\u001b[1m4/4\u001b[0m \u001b[32m━━━━━━━━━━━━━━━━━━━━\u001b[0m\u001b[37m\u001b[0m \u001b[1m0s\u001b[0m 54ms/step - accuracy: 0.9946 - loss: 0.0227 - val_accuracy: 0.8000 - val_loss: 1.0144\n",
            "Epoch 48/70\n",
            "\u001b[1m4/4\u001b[0m \u001b[32m━━━━━━━━━━━━━━━━━━━━\u001b[0m\u001b[37m\u001b[0m \u001b[1m0s\u001b[0m 54ms/step - accuracy: 0.9852 - loss: 0.0268 - val_accuracy: 0.8000 - val_loss: 1.0737\n",
            "Epoch 49/70\n",
            "\u001b[1m4/4\u001b[0m \u001b[32m━━━━━━━━━━━━━━━━━━━━\u001b[0m\u001b[37m\u001b[0m \u001b[1m0s\u001b[0m 54ms/step - accuracy: 1.0000 - loss: 0.0186 - val_accuracy: 0.6000 - val_loss: 1.1239\n",
            "Epoch 50/70\n",
            "\u001b[1m4/4\u001b[0m \u001b[32m━━━━━━━━━━━━━━━━━━━━\u001b[0m\u001b[37m\u001b[0m \u001b[1m0s\u001b[0m 55ms/step - accuracy: 1.0000 - loss: 0.0227 - val_accuracy: 0.5667 - val_loss: 1.1331\n",
            "Epoch 51/70\n",
            "\u001b[1m4/4\u001b[0m \u001b[32m━━━━━━━━━━━━━━━━━━━━\u001b[0m\u001b[37m\u001b[0m \u001b[1m0s\u001b[0m 40ms/step - accuracy: 0.9946 - loss: 0.0395 - val_accuracy: 0.6333 - val_loss: 1.1039\n",
            "Epoch 52/70\n",
            "\u001b[1m4/4\u001b[0m \u001b[32m━━━━━━━━━━━━━━━━━━━━\u001b[0m\u001b[37m\u001b[0m \u001b[1m0s\u001b[0m 55ms/step - accuracy: 0.9892 - loss: 0.0314 - val_accuracy: 0.5667 - val_loss: 1.0464\n",
            "Epoch 53/70\n",
            "\u001b[1m4/4\u001b[0m \u001b[32m━━━━━━━━━━━━━━━━━━━━\u001b[0m\u001b[37m\u001b[0m \u001b[1m0s\u001b[0m 40ms/step - accuracy: 0.9827 - loss: 0.0341 - val_accuracy: 0.6667 - val_loss: 0.7910\n",
            "Epoch 54/70\n",
            "\u001b[1m4/4\u001b[0m \u001b[32m━━━━━━━━━━━━━━━━━━━━\u001b[0m\u001b[37m\u001b[0m \u001b[1m0s\u001b[0m 42ms/step - accuracy: 1.0000 - loss: 0.0131 - val_accuracy: 0.8333 - val_loss: 0.4436\n",
            "Epoch 55/70\n",
            "\u001b[1m4/4\u001b[0m \u001b[32m━━━━━━━━━━━━━━━━━━━━\u001b[0m\u001b[37m\u001b[0m \u001b[1m0s\u001b[0m 59ms/step - accuracy: 0.9915 - loss: 0.0223 - val_accuracy: 0.9000 - val_loss: 0.3261\n",
            "Epoch 56/70\n",
            "\u001b[1m4/4\u001b[0m \u001b[32m━━━━━━━━━━━━━━━━━━━━\u001b[0m\u001b[37m\u001b[0m \u001b[1m0s\u001b[0m 40ms/step - accuracy: 0.9946 - loss: 0.0311 - val_accuracy: 0.8333 - val_loss: 0.3687\n",
            "Epoch 57/70\n",
            "\u001b[1m4/4\u001b[0m \u001b[32m━━━━━━━━━━━━━━━━━━━━\u001b[0m\u001b[37m\u001b[0m \u001b[1m0s\u001b[0m 40ms/step - accuracy: 0.9946 - loss: 0.0223 - val_accuracy: 0.8000 - val_loss: 0.4588\n",
            "Epoch 58/70\n",
            "\u001b[1m4/4\u001b[0m \u001b[32m━━━━━━━━━━━━━━━━━━━━\u001b[0m\u001b[37m\u001b[0m \u001b[1m0s\u001b[0m 40ms/step - accuracy: 0.9852 - loss: 0.0217 - val_accuracy: 0.8000 - val_loss: 0.5401\n",
            "Epoch 59/70\n",
            "\u001b[1m4/4\u001b[0m \u001b[32m━━━━━━━━━━━━━━━━━━━━\u001b[0m\u001b[37m\u001b[0m \u001b[1m0s\u001b[0m 40ms/step - accuracy: 0.9915 - loss: 0.0301 - val_accuracy: 0.8000 - val_loss: 0.5973\n",
            "Epoch 60/70\n",
            "\u001b[1m4/4\u001b[0m \u001b[32m━━━━━━━━━━━━━━━━━━━━\u001b[0m\u001b[37m\u001b[0m \u001b[1m0s\u001b[0m 40ms/step - accuracy: 0.9915 - loss: 0.0319 - val_accuracy: 0.8000 - val_loss: 0.6457\n",
            "Epoch 61/70\n",
            "\u001b[1m4/4\u001b[0m \u001b[32m━━━━━━━━━━━━━━━━━━━━\u001b[0m\u001b[37m\u001b[0m \u001b[1m0s\u001b[0m 40ms/step - accuracy: 0.9946 - loss: 0.0242 - val_accuracy: 0.8000 - val_loss: 0.6414\n",
            "Epoch 62/70\n",
            "\u001b[1m4/4\u001b[0m \u001b[32m━━━━━━━━━━━━━━━━━━━━\u001b[0m\u001b[37m\u001b[0m \u001b[1m0s\u001b[0m 41ms/step - accuracy: 0.9946 - loss: 0.0192 - val_accuracy: 0.8000 - val_loss: 0.6623\n",
            "Epoch 63/70\n",
            "\u001b[1m4/4\u001b[0m \u001b[32m━━━━━━━━━━━━━━━━━━━━\u001b[0m\u001b[37m\u001b[0m \u001b[1m0s\u001b[0m 40ms/step - accuracy: 0.9829 - loss: 0.0357 - val_accuracy: 0.8000 - val_loss: 0.6757\n",
            "Epoch 64/70\n",
            "\u001b[1m4/4\u001b[0m \u001b[32m━━━━━━━━━━━━━━━━━━━━\u001b[0m\u001b[37m\u001b[0m \u001b[1m0s\u001b[0m 54ms/step - accuracy: 0.9946 - loss: 0.0190 - val_accuracy: 0.8000 - val_loss: 0.5510\n",
            "Epoch 65/70\n",
            "\u001b[1m4/4\u001b[0m \u001b[32m━━━━━━━━━━━━━━━━━━━━\u001b[0m\u001b[37m\u001b[0m \u001b[1m0s\u001b[0m 41ms/step - accuracy: 0.9767 - loss: 0.0257 - val_accuracy: 0.8000 - val_loss: 0.4651\n",
            "Epoch 66/70\n",
            "\u001b[1m4/4\u001b[0m \u001b[32m━━━━━━━━━━━━━━━━━━━━\u001b[0m\u001b[37m\u001b[0m \u001b[1m0s\u001b[0m 43ms/step - accuracy: 0.9798 - loss: 0.0390 - val_accuracy: 0.8000 - val_loss: 0.4238\n",
            "Epoch 67/70\n",
            "\u001b[1m4/4\u001b[0m \u001b[32m━━━━━━━━━━━━━━━━━━━━\u001b[0m\u001b[37m\u001b[0m \u001b[1m0s\u001b[0m 54ms/step - accuracy: 1.0000 - loss: 0.0094 - val_accuracy: 0.8000 - val_loss: 0.3884\n",
            "Epoch 68/70\n",
            "\u001b[1m4/4\u001b[0m \u001b[32m━━━━━━━━━━━━━━━━━━━━\u001b[0m\u001b[37m\u001b[0m \u001b[1m0s\u001b[0m 58ms/step - accuracy: 0.9852 - loss: 0.0389 - val_accuracy: 0.8000 - val_loss: 0.4069\n",
            "Epoch 69/70\n",
            "\u001b[1m4/4\u001b[0m \u001b[32m━━━━━━━━━━━━━━━━━━━━\u001b[0m\u001b[37m\u001b[0m \u001b[1m0s\u001b[0m 55ms/step - accuracy: 0.9852 - loss: 0.0364 - val_accuracy: 0.8000 - val_loss: 0.4290\n",
            "Epoch 70/70\n",
            "\u001b[1m4/4\u001b[0m \u001b[32m━━━━━━━━━━━━━━━━━━━━\u001b[0m\u001b[37m\u001b[0m \u001b[1m0s\u001b[0m 57ms/step - accuracy: 1.0000 - loss: 0.0134 - val_accuracy: 0.8000 - val_loss: 0.4313\n",
            "\u001b[1m1/1\u001b[0m \u001b[32m━━━━━━━━━━━━━━━━━━━━\u001b[0m\u001b[37m\u001b[0m \u001b[1m0s\u001b[0m 44ms/step - accuracy: 0.8000 - loss: 0.4313\n",
            "Test Loss: 0.43134668469429016\n",
            "Test Accuracy: 0.800000011920929\n"
          ]
        }
      ]
    },
    {
      "cell_type": "markdown",
      "source": [
        "# 分類精度を計測しよう\n",
        "- 訓練に使わなかった、20%のデータを用いて、正しく分類できているかをテストします\n",
        "- 制度の指標には、正解率 (Accuracy)を利用します。\n",
        "  - **Accuracy**: 全データのうち、正しく分類されたデータの割合。正しいとは、分類結果と、そのサイト名 (ラベル)が一致することを指す。"
      ],
      "metadata": {
        "id": "7956qV4otqJB"
      }
    },
    {
      "cell_type": "code",
      "source": [
        "predictions = model.predict(X_test)\n",
        "predicted_labels = np.argmax(predictions, axis=1)\n",
        "actual_labels = np.argmax(y_test_cat, axis=1)\n",
        "\n",
        "# 予測結果と実際のラベルを表示\n",
        "predicted_sites = label_encoder.inverse_transform(predicted_labels)\n",
        "actual_sites = label_encoder.inverse_transform(actual_labels)\n",
        "\n",
        "# 全ての結果（分類器の予測結果と正しいサイト名の組み合わせ）を表示\n",
        "\"\"\"\n",
        "for i in range(len(X_test)):\n",
        "    print(f'Index: {i}')\n",
        "    print(f'Actual site: {actual_sites[i]}')\n",
        "    print(f'Predicted site: {predicted_sites[i]}')\n",
        "    print('---')\n",
        "\"\"\"\n",
        "\n",
        "import pandas as pd\n",
        "# 予測結果と実際のラベルをデータフレームに変換\n",
        "results = pd.DataFrame({\n",
        "    'Actual site': actual_sites,\n",
        "    'Predicted site': predicted_sites\n",
        "})\n",
        "\n",
        "# 結果をCSVファイルに保存（index=Falseでインデックスを省略）\n",
        "results.to_csv('results.csv', index=False)\n",
        "\n",
        "print(\"---Results---\")\n",
        "\n",
        "# 各サイトのラベルを取得\n",
        "unique_sites = label_encoder.classes_\n",
        "\n",
        "# サイトごとの正答率を計算\n",
        "correct_counts = {site: 0 for site in unique_sites}\n",
        "total_counts = {site: 0 for site in unique_sites}\n",
        "\n",
        "for actual, predicted in zip(actual_sites, predicted_sites):\n",
        "    total_counts[actual] += 1\n",
        "    if actual == predicted:\n",
        "        correct_counts[actual] += 1\n",
        "\n",
        "accuracy_per_site = {site: correct_counts[site] / total_counts[site] for site in unique_sites}\n",
        "\n",
        "# 正答率を表示\n",
        "for site, accuracy in accuracy_per_site.items():\n",
        "    print(f'Site: {site}, Accuracy: {accuracy:.2f}')\n",
        "\n",
        "from collections import defaultdict\n",
        "\n",
        "# 間違えた場合の集計\n",
        "misclassification_counts = {site: defaultdict(int) for site in unique_sites}\n",
        "\n",
        "for actual, predicted in zip(actual_sites, predicted_sites):\n",
        "    if actual != predicted:\n",
        "        misclassification_counts[actual][predicted] += 1\n",
        "\n",
        "# 各サイトごとに間違えた他サイトの割合を計算\n",
        "misclassification_ratios = {}\n",
        "\n",
        "for site in unique_sites:\n",
        "    total_misclassifications = sum(misclassification_counts[site].values())\n",
        "    if total_misclassifications > 0:\n",
        "        misclassification_ratios[site] = {predicted: count / total_misclassifications for predicted, count in misclassification_counts[site].items()}\n",
        "    else:\n",
        "        misclassification_ratios[site] = {}\n",
        "print(\"---Misclassified---\")\n",
        "# 結果を表示\n",
        "for site, ratios in misclassification_ratios.items():\n",
        "    print(f'Site: {site}')\n",
        "    for misclassified_site, ratio in ratios.items():\n",
        "        print(f'  Misclassified as {misclassified_site}: {ratio:.2f}')"
      ],
      "metadata": {
        "colab": {
          "base_uri": "https://localhost:8080/"
        },
        "id": "HRV3UC4TiQro",
        "outputId": "30f6fb05-95e6-4a5f-e26f-5ea712736a5f"
      },
      "execution_count": 18,
      "outputs": [
        {
          "output_type": "stream",
          "name": "stdout",
          "text": [
            "\u001b[1m1/1\u001b[0m \u001b[32m━━━━━━━━━━━━━━━━━━━━\u001b[0m\u001b[37m\u001b[0m \u001b[1m1s\u001b[0m 1s/step\n",
            "---Results---\n",
            "Site: amazonjp, Accuracy: 1.00\n",
            "Site: baidu, Accuracy: 1.00\n",
            "Site: googlejp, Accuracy: 1.00\n",
            "Site: osakau, Accuracy: 0.00\n",
            "Site: rakuten, Accuracy: 1.00\n",
            "---Misclassified---\n",
            "Site: amazonjp\n",
            "Site: baidu\n",
            "Site: googlejp\n",
            "Site: osakau\n",
            "  Misclassified as rakuten: 1.00\n",
            "Site: rakuten\n"
          ]
        }
      ]
    },
    {
      "cell_type": "markdown",
      "source": [
        "# **成果をレポートにまとめよう**\n",
        "\n",
        "- パケット列の特徴量の計測結果\n",
        "  - 各ウェブサイトの特徴量のグラフ\n",
        "- ウェブサイト毎の特徴量に関する考察\n",
        "  - 異なるウェブサイトで、特徴量に差異があるか・ないか\n",
        "  - なぜ、差異が生じるのか・生じないのか、の理由\n",
        "- ウェブサイトの分類精度の計測結果\n",
        "  - テストデータを用いて計測した Accuracy の結果を、ウェブサイト毎にまとめよう\n",
        "- ウェブサイトの分類精度の結果に関する考察\n",
        "  - 正しく分類できた・できなかった\n",
        "  - その理由\n",
        "- ウェブページの分類に関する考察 (時間に余裕がある人だけで良い)\n",
        "  - ウェブサイトとウェブページの分類について、気づいた違いについて述べよ"
      ],
      "metadata": {
        "id": "kznl-Q84uea4"
      }
    },
    {
      "cell_type": "markdown",
      "source": [
        "# **パケット列の特徴量の計測結果**\n",
        "\n",
        "- 上部で出力したグラフを右クリックでコピーして来る\n",
        "- 以下の空欄をクリックし、キー\"Ctrl+V\"を押して貼り付け\n"
      ],
      "metadata": {
        "id": "0gTrL9fvvM-g"
      }
    },
    {
      "cell_type": "markdown",
      "source": [
        "## ウェブサイト毎の特徴量に関する考察\n",
        "(**ダブルクリックし、以下に記入してください**)\n"
      ],
      "metadata": {
        "id": "KNJrBsJhvoPo"
      }
    },
    {
      "cell_type": "markdown",
      "source": [
        "## ウェブサイトの分類精度の計測結果\n",
        "(**ダブルクリックし、以下に記入してください**)\n",
        "\n"
      ],
      "metadata": {
        "id": "hPMMG1GRvome"
      }
    },
    {
      "cell_type": "markdown",
      "source": [
        "## ウェブサイトの分類精度の結果に関する考察\n",
        "(**ダブルクリックし、以下に記入してください**)\n",
        "\n"
      ],
      "metadata": {
        "id": "mCVjI0PVvo7r"
      }
    },
    {
      "cell_type": "markdown",
      "source": [
        "# ウェブページの分類に関する考察 (時間に余裕がある人だけで良い)\n",
        "(**ダブルクリックし、以下に記入してください**)"
      ],
      "metadata": {
        "id": "F8-f7wYXNBMM"
      }
    },
    {
      "cell_type": "markdown",
      "source": [
        "![image.png](data:image/png;base64,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)"
      ],
      "metadata": {
        "id": "a-R5WuGeQTxZ"
      }
    }
  ]
}
