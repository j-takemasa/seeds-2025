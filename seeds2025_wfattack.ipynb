{
  "nbformat": 4,
  "nbformat_minor": 0,
  "metadata": {
    "colab": {
      "provenance": [],
      "gpuType": "T4"
    },
    "kernelspec": {
      "name": "python3",
      "display_name": "Python 3"
    },
    "language_info": {
      "name": "python"
    },
    "accelerator": "GPU"
  },
  "cells": [
    {
      "cell_type": "markdown",
      "source": [
        "[![Open In Colab](https://colab.research.google.com/assets/colab-badge.svg)](https://colab.research.google.com/github/j-takemasa/seeds-2025/blob/main/seeds2025_wfattack.ipynb)"
      ],
      "metadata": {
        "id": "oa_3cHO9AT8B"
      }
    },
    {
      "cell_type": "markdown",
      "source": [
        "# 関数、ライブラリの定義\n",
        "\n",
        "コードを実行するだけでよい。"
      ],
      "metadata": {
        "id": "3qPb2tpzwDea"
      }
    },
    {
      "cell_type": "code",
      "source": [
        "#はじめに実行(一回だけ実行すれば良い)\n",
        "!pip install scapy\n",
        "# DF model used for non-defended dataset\n",
        "from keras.models import Sequential\n",
        "from keras.layers import Conv1D, MaxPooling1D, BatchNormalization\n",
        "from keras.layers import Activation, Flatten, Dense, Dropout, ELU\n",
        "from keras.initializers import glorot_uniform\n",
        "\n",
        "import os\n",
        "import sys\n",
        "import numpy as np\n",
        "from scapy.all import rdpcap\n",
        "import tensorflow as tf\n",
        "from tqdm import tqdm\n",
        "import matplotlib.pyplot as plt\n",
        "\n",
        "def extract_features(packet_file):\n",
        "    packet_sizes = []\n",
        "    timestamps = []\n",
        "    packets = rdpcap(packet_file)\n",
        "    start_time = None\n",
        "    cumm_sizes = 0\n",
        "    for packet in packets:\n",
        "        if packet.haslayer(\"IP\") and (packet.haslayer(\"TCP\") or packet.haslayer(\"UDP\")):\n",
        "            if start_time is None:\n",
        "                start_time = packet.time\n",
        "            if packet.haslayer(\"TCP\"):\n",
        "                # packet_sizes.append(len(packet['TCP'].payload))\n",
        "                cumm_sizes += len(packet['TCP'].payload)\n",
        "                packet_sizes.append(cumm_sizes)\n",
        "                timestamps.append(packet.time - start_time)  # 最初のパケットのタイムスタンプからの経過時間を計算\n",
        "            elif packet.haslayer(\"UDP\") and packet['UDP'].dport == 443:  # QUICの場合\n",
        "                cumm_sizes += len(packet['UDP'].payload)\n",
        "                packet_sizes.append(cumm_sizes)\n",
        "                timestamps.append(packet.time - start_time)  # 最初のパケットのタイムスタンプからの経過時間を計算\n",
        "    return np.array(packet_sizes), np.array(timestamps)\n",
        "\n",
        "def create_training_data(max_packet_length,sites,pcap_file_num,pcap_dir):\n",
        "    data = []\n",
        "    labels = []\n",
        "    # global max_packet_length\n",
        "    print(\"訓練用データ作成中...\")\n",
        "    for site in sites:\n",
        "        print(site)\n",
        "        for i in tqdm(range(0, pcap_file_num)):\n",
        "            # packet_file = f'{pcap_dir}/output_www_{site}_com_{i}.pcap'\n",
        "            # packet_file = f'{pcap_dir}/{site}-pcaplist/{site}{i}.pcap'\n",
        "            packet_file = f'{pcap_dir}/{site}/{i}.pcap'\n",
        "            packet_sizes, timestamps = extract_features(packet_file)\n",
        "            # パケットサイズが最大長を超える場合は切り捨て\n",
        "            if len(packet_sizes) > max_packet_length:\n",
        "                packet_sizes = packet_sizes[:max_packet_length]\n",
        "                timestamps = timestamps[:max_packet_length]\n",
        "            data.append((packet_sizes, timestamps))  # パケットサイズとタイムスタンプをタプルとして保存\n",
        "            labels.append(site)\n",
        "\n",
        "    # ゼロパディングを行い、特徴量を作成\n",
        "    padded_data = []\n",
        "    for packet_sizes, timestamps in data:\n",
        "        pad_length = max_packet_length - len(packet_sizes)\n",
        "        padded_packet_sizes = np.pad(packet_sizes, (0, pad_length), mode='constant')\n",
        "        padded_timestamps = np.pad(timestamps, (0, pad_length), mode='constant')\n",
        "        padded_features = np.column_stack((padded_packet_sizes, padded_timestamps))\n",
        "        padded_data.append(padded_features)\n",
        "\n",
        "    return np.array(padded_data), np.array(labels)\n",
        "\n",
        "def convert_to_numeric(data):\n",
        "    numeric_data = []\n",
        "    for entry in data:\n",
        "        numeric_entry = np.array(entry, dtype=np.float32)\n",
        "        numeric_data.append(numeric_entry)\n",
        "    return np.array(numeric_data)\n",
        "\n",
        "#はじめに実行\n",
        "from google.colab import drive\n",
        "drive.mount('/content/drive')\n",
        "\n",
        "pcap_file_num = 30\n",
        "EPOCHS = 70\n",
        "max_packet_length = 5000  # 定数値を設定"
      ],
      "metadata": {
        "colab": {
          "base_uri": "https://localhost:8080/"
        },
        "id": "TDe-rdomikHr",
        "outputId": "575596f4-ef5a-4b11-c8fe-a08705f70d55"
      },
      "execution_count": 13,
      "outputs": [
        {
          "output_type": "stream",
          "name": "stdout",
          "text": [
            "Requirement already satisfied: scapy in /usr/local/lib/python3.12/dist-packages (2.6.1)\n",
            "Drive already mounted at /content/drive; to attempt to forcibly remount, call drive.mount(\"/content/drive\", force_remount=True).\n"
          ]
        }
      ]
    },
    {
      "cell_type": "markdown",
      "source": [
        "# 計測したパケット列を Google Drive にアップロードしよう\n",
        "- GoogleDriveを開き、\"seeds-25\"というフォルダを作成\n",
        "- \"seeds-25\"に移動し、計測したパケット列をここに保存\n",
        "- 赤い文字でエラーが出たら、教員に申し出ること"
      ],
      "metadata": {
        "id": "fyvbymSwiH_C"
      }
    },
    {
      "cell_type": "code",
      "source": [
        "!ls /content/drive/MyDrive/seeds-25/dataset\n",
        "pcap_dir = \"/content/drive/MyDrive/seeds-25/dataset\"\n",
        "sites = os.listdir(pcap_dir)\n",
        "print(sites)"
      ],
      "metadata": {
        "id": "L6S4v3svcJuA",
        "colab": {
          "base_uri": "https://localhost:8080/"
        },
        "outputId": "ea4e8ce4-3621-4b43-fed7-aba5cc1ed96a"
      },
      "execution_count": 14,
      "outputs": [
        {
          "output_type": "stream",
          "name": "stdout",
          "text": [
            "amazonjp  baidu  googlejp  osakau  rakuten\n",
            "['amazonjp', 'googlejp', 'baidu', 'osakau', 'rakuten']\n"
          ]
        }
      ]
    },
    {
      "cell_type": "markdown",
      "source": [
        "# 特徴量を抽出し、可視化しょう\n",
        "- 累積パケットサイズの時系列変化を、特徴量として使います。\n",
        "- 上述の、各サイト名を sitesの要素として、入力してください。\n",
        "  - 例: amazon, baidu, googlejp,osakau,rakuten の場合は、以下の通り。適宜、変更してください。\n"
      ],
      "metadata": {
        "id": "PhedkTY1IYkp"
      }
    },
    {
      "cell_type": "code",
      "source": [
        "features = {}\n",
        "for site in sites:\n",
        "  features[site] = {}\n",
        "  path = \"/content/drive/MyDrive/seeds-25/dataset/\"+site+\"/0.pcap\"\n",
        "  features[site][\"size\"], features[site][\"timestamp\"]  =  extract_features(path)\n",
        "\n",
        "for site in sites:\n",
        "  x = features[site][\"size\"]\n",
        "  y = features[site][\"timestamp\"]\n",
        "  plt.plot(x,y,label=site)\n",
        "\n",
        "plt.legend()\n",
        "plt.xlabel(\"Time\")\n",
        "plt.ylabel(\"Accumulated Packet Size\")\n",
        "\n",
        "plt.savefig(\"/content/drive/MyDrive/seeds-25/features_graph.pdf\")\n",
        "plt.savefig(\"/content/drive/MyDrive/seeds-25/features_graph.png\")\n",
        "plt.show()"
      ],
      "metadata": {
        "colab": {
          "base_uri": "https://localhost:8080/",
          "height": 449
        },
        "id": "9s3KngzvITgp",
        "outputId": "d1cf2930-e90e-47da-efbb-510b41383de8"
      },
      "execution_count": 10,
      "outputs": [
        {
          "output_type": "display_data",
          "data": {
            "text/plain": [
              "<Figure size 640x480 with 1 Axes>"
            ],
            "image/png": "[encoded data removed]"
          },
          "metadata": {}
        }
      ]
    },
    {
      "cell_type": "markdown",
      "source": [
        "# AIモデルの定義\n",
        "- 今回は、畳み込みニューラルネットワーク (Convolutional Neural Network: CNN)を使います\n"
      ],
      "metadata": {
        "id": "pzT_NmQlpcfw"
      }
    },
    {
      "cell_type": "code",
      "source": [
        "class DFNet:\n",
        "    @staticmethod\n",
        "    def build(input_shape, classes):\n",
        "        model = Sequential()\n",
        "        #Block1\n",
        "        filter_num = ['None',32,64,128,256]\n",
        "        kernel_size = ['None',8,8,8,8]\n",
        "        conv_stride_size = ['None',1,1,1,1]\n",
        "        pool_stride_size = ['None',4,4,4,4]\n",
        "        pool_size = ['None',8,8,8,8]\n",
        "\n",
        "        model.add(Conv1D(filters=filter_num[1], kernel_size=kernel_size[1], input_shape=input_shape,\n",
        "                         strides=conv_stride_size[1], padding='same',\n",
        "                         name='block1_conv1'))\n",
        "        model.add(BatchNormalization(axis=-1))\n",
        "        model.add(ELU(alpha=1.0, name='block1_adv_act1'))\n",
        "        model.add(Conv1D(filters=filter_num[1], kernel_size=kernel_size[1],\n",
        "                         strides=conv_stride_size[1], padding='same',\n",
        "                         name='block1_conv2'))\n",
        "        model.add(BatchNormalization(axis=-1))\n",
        "        model.add(ELU(alpha=1.0, name='block1_adv_act2'))\n",
        "        model.add(MaxPooling1D(pool_size=pool_size[1], strides=pool_stride_size[1],\n",
        "                               padding='same', name='block1_pool'))\n",
        "        model.add(Dropout(0.1, name='block1_dropout'))\n",
        "\n",
        "        model.add(Conv1D(filters=filter_num[2], kernel_size=kernel_size[2],\n",
        "                         strides=conv_stride_size[2], padding='same',\n",
        "                         name='block2_conv1'))\n",
        "        model.add(BatchNormalization())\n",
        "        model.add(Activation('relu', name='block2_act1'))\n",
        "\n",
        "        model.add(Conv1D(filters=filter_num[2], kernel_size=kernel_size[2],\n",
        "                         strides=conv_stride_size[2], padding='same',\n",
        "                         name='block2_conv2'))\n",
        "        model.add(BatchNormalization())\n",
        "        model.add(Activation('relu', name='block2_act2'))\n",
        "        model.add(MaxPooling1D(pool_size=pool_size[2], strides=pool_stride_size[3],\n",
        "                               padding='same', name='block2_pool'))\n",
        "        model.add(Dropout(0.1, name='block2_dropout'))\n",
        "\n",
        "        model.add(Conv1D(filters=filter_num[3], kernel_size=kernel_size[3],\n",
        "                         strides=conv_stride_size[3], padding='same',\n",
        "                         name='block3_conv1'))\n",
        "        model.add(BatchNormalization())\n",
        "        model.add(Activation('relu', name='block3_act1'))\n",
        "        model.add(Conv1D(filters=filter_num[3], kernel_size=kernel_size[3],\n",
        "                         strides=conv_stride_size[3], padding='same',\n",
        "                         name='block3_conv2'))\n",
        "        model.add(BatchNormalization())\n",
        "        model.add(Activation('relu', name='block3_act2'))\n",
        "        model.add(MaxPooling1D(pool_size=pool_size[3], strides=pool_stride_size[3],\n",
        "                               padding='same', name='block3_pool'))\n",
        "        model.add(Dropout(0.1, name='block3_dropout'))\n",
        "\n",
        "        model.add(Conv1D(filters=filter_num[4], kernel_size=kernel_size[4],\n",
        "                         strides=conv_stride_size[4], padding='same',\n",
        "                         name='block4_conv1'))\n",
        "        model.add(BatchNormalization())\n",
        "        model.add(Activation('relu', name='block4_act1'))\n",
        "        model.add(Conv1D(filters=filter_num[4], kernel_size=kernel_size[4],\n",
        "                         strides=conv_stride_size[4], padding='same',\n",
        "                         name='block4_conv2'))\n",
        "        model.add(BatchNormalization())\n",
        "        model.add(Activation('relu', name='block4_act2'))\n",
        "        model.add(MaxPooling1D(pool_size=pool_size[4], strides=pool_stride_size[4],\n",
        "                               padding='same', name='block4_pool'))\n",
        "        model.add(Dropout(0.1, name='block4_dropout'))\n",
        "\n",
        "        model.add(Flatten(name='flatten'))\n",
        "        model.add(Dense(512, kernel_initializer=glorot_uniform(seed=0), name='fc1'))\n",
        "        model.add(BatchNormalization())\n",
        "        model.add(Activation('relu', name='fc1_act'))\n",
        "\n",
        "        model.add(Dropout(0.7, name='fc1_dropout'))\n",
        "\n",
        "        model.add(Dense(512, kernel_initializer=glorot_uniform(seed=0), name='fc2'))\n",
        "        model.add(BatchNormalization())\n",
        "        model.add(Activation('relu', name='fc2_act'))\n",
        "\n",
        "        model.add(Dropout(0.5, name='fc2_dropout'))\n",
        "\n",
        "        model.add(Dense(classes, kernel_initializer=glorot_uniform(seed=0), name='fc3'))\n",
        "        model.add(Activation('softmax', name=\"softmax\"))\n",
        "        return model"
      ],
      "metadata": {
        "id": "R_HQNxFcjIgG"
      },
      "execution_count": 15,
      "outputs": []
    },
    {
      "cell_type": "markdown",
      "source": [
        "# AIモデルの訓練用データを作成しよう"
      ],
      "metadata": {
        "id": "C6nXteNNqz2D"
      }
    },
    {
      "cell_type": "code",
      "source": [
        "# scapyによる特徴量抽出(一回だけ実行すれば良い)\n",
        "# 学習データとラベルを取得\n",
        "training_data, labels = create_training_data(max_packet_length,sites,pcap_file_num,pcap_dir)\n",
        "# training_data, labels = create_training_data()\n",
        "print()\n",
        "print(training_data.shape)\n",
        "print(labels.shape)\n",
        "numeric_training_data = convert_to_numeric(training_data)"
      ],
      "metadata": {
        "colab": {
          "base_uri": "https://localhost:8080/"
        },
        "id": "4RJ_OnL5qD-I",
        "outputId": "ad9a42e5-7807-4f4a-f0af-a0b886085519"
      },
      "execution_count": 16,
      "outputs": [
        {
          "output_type": "stream",
          "name": "stdout",
          "text": [
            "訓練用データ作成中...\n",
            "amazonjp\n"
          ]
        },
        {
          "output_type": "stream",
          "name": "stderr",
          "text": [
            "100%|██████████| 30/30 [00:36<00:00,  1.20s/it]\n"
          ]
        },
        {
          "output_type": "stream",
          "name": "stdout",
          "text": [
            "googlejp\n"
          ]
        },
        {
          "output_type": "stream",
          "name": "stderr",
          "text": [
            "100%|██████████| 30/30 [00:27<00:00,  1.10it/s]\n"
          ]
        },
        {
          "output_type": "stream",
          "name": "stdout",
          "text": [
            "baidu\n"
          ]
        },
        {
          "output_type": "stream",
          "name": "stderr",
          "text": [
            "100%|██████████| 30/30 [00:25<00:00,  1.16it/s]\n"
          ]
        },
        {
          "output_type": "stream",
          "name": "stdout",
          "text": [
            "osakau\n"
          ]
        },
        {
          "output_type": "stream",
          "name": "stderr",
          "text": [
            "100%|██████████| 30/30 [01:27<00:00,  2.93s/it]\n"
          ]
        },
        {
          "output_type": "stream",
          "name": "stdout",
          "text": [
            "rakuten\n"
          ]
        },
        {
          "output_type": "stream",
          "name": "stderr",
          "text": [
            "100%|██████████| 30/30 [00:53<00:00,  1.78s/it]\n"
          ]
        },
        {
          "output_type": "stream",
          "name": "stdout",
          "text": [
            "\n",
            "(150, 5000, 2)\n",
            "(150,)\n"
          ]
        }
      ]
    },
    {
      "cell_type": "markdown",
      "source": [
        "# AIモデルを訓練しよう\n",
        "- 今回は、全データのうち、80%を訓練用に、残りの20%をテスト用に利用します"
      ],
      "metadata": {
        "id": "Yn_vQSaNtUfL"
      }
    },
    {
      "cell_type": "code",
      "source": [
        "# TensorFlowモデルの学習\n",
        "from sklearn.preprocessing import LabelEncoder\n",
        "from sklearn.model_selection import train_test_split\n",
        "from tensorflow.keras.models import Sequential\n",
        "from tensorflow.keras.layers import Dense, LSTM\n",
        "from tensorflow.keras.utils import to_categorical\n",
        "\n",
        "# ラベルを数値にエンコード\n",
        "label_encoder = LabelEncoder()\n",
        "encoded_labels = label_encoder.fit_transform(labels)\n",
        "\n",
        "# データの前処理\n",
        "X_train, X_test, y_train, y_test = train_test_split(numeric_training_data, encoded_labels, test_size=0.2, random_state=42, stratify=encoded_labels)\n",
        "\n",
        "# ラベルをone-hotエンコーディング\n",
        "y_train_cat = to_categorical(y_train)\n",
        "y_test_cat = to_categorical(y_test)\n",
        "\n",
        "from keras.optimizers import Adamax\n",
        "\n",
        "INPUT_SHAPE = (max_packet_length,2)\n",
        "NB_CLASSES = len(sites)\n",
        "OPTIMIZER = tf.keras.optimizers.Adamax(learning_rate=0.002, beta_1=0.9, beta_2=0.999, epsilon=1e-08) # Optimizer\n",
        "\n",
        "# モデルの構築\n",
        "model = DFNet.build(input_shape=INPUT_SHAPE, classes=NB_CLASSES)\n",
        "model.compile(loss=\"categorical_crossentropy\", optimizer=OPTIMIZER, metrics=[\"accuracy\"])\n",
        "print (\"Model compiled\")\n",
        "\n",
        "print(X_train.shape)\n",
        "print(y_train_cat.shape)\n",
        "\n",
        "# モデルの学習\n",
        "model.fit(X_train, y_train_cat, epochs=EPOCHS, batch_size=32, validation_data=(X_test, y_test_cat))\n",
        "\n",
        "# モデルの評価\n",
        "loss, accuracy = model.evaluate(X_test, y_test_cat)\n",
        "print('Test Loss:', loss)\n",
        "print('Test Accuracy:', accuracy)"
      ],
      "metadata": {
        "colab": {
          "base_uri": "https://localhost:8080/"
        },
        "id": "8szHIFILo2SD",
        "outputId": "59044bce-2ee0-468a-be3b-60ab44f6bfbb"
      },
      "execution_count": 17,
      "outputs": [
        {
          "output_type": "stream",
          "name": "stderr",
          "text": [
            "/usr/local/lib/python3.12/dist-packages/keras/src/layers/convolutional/base_conv.py:113: UserWarning: Do not pass an `input_shape`/`input_dim` argument to a layer. When using Sequential models, prefer using an `Input(shape)` object as the first layer in the model instead.\n",
            "  super().__init__(activity_regularizer=activity_regularizer, **kwargs)\n"
          ]
        },
        {
          "output_type": "stream",
          "name": "stdout",
          "text": [
            "Model compiled\n",
            "(120, 5000, 2)\n",
            "(120, 5)\n",
            "Epoch 1/70\n",
            "\u001b[1m4/4\u001b[0m \u001b[32m━━━━━━━━━━━━━━━━━━━━\u001b[0m\u001b[37m\u001b[0m \u001b[1m41s\u001b[0m 5s/step - accuracy: 0.2800 - loss: 2.3731 - val_accuracy: 0.6000 - val_loss: 8.2615\n",
            "Epoch 2/70\n",
            "\u001b[1m4/4\u001b[0m \u001b[32m━━━━━━━━━━━━━━━━━━━━\u001b[0m\u001b[37m\u001b[0m \u001b[1m11s\u001b[0m 68ms/step - accuracy: 0.6590 - loss: 0.7934 - val_accuracy: 0.7667 - val_loss: 18.5260\n",
            "Epoch 3/70\n",
            "\u001b[1m4/4\u001b[0m \u001b[32m━━━━━━━━━━━━━━━━━━━━\u001b[0m\u001b[37m\u001b[0m \u001b[1m0s\u001b[0m 47ms/step - accuracy: 0.8148 - loss: 0.4514 - val_accuracy: 0.7667 - val_loss: 20.3470\n",
            "Epoch 4/70\n",
            "\u001b[1m4/4\u001b[0m \u001b[32m━━━━━━━━━━━━━━━━━━━━\u001b[0m\u001b[37m\u001b[0m \u001b[1m0s\u001b[0m 57ms/step - accuracy: 0.8931 - loss: 0.3337 - val_accuracy: 0.7667 - val_loss: 17.3095\n",
            "Epoch 5/70\n",
            "\u001b[1m4/4\u001b[0m \u001b[32m━━━━━━━━━━━━━━━━━━━━\u001b[0m\u001b[37m\u001b[0m \u001b[1m0s\u001b[0m 57ms/step - accuracy: 0.9327 - loss: 0.2981 - val_accuracy: 0.7667 - val_loss: 15.0574\n",
            "Epoch 6/70\n",
            "\u001b[1m4/4\u001b[0m \u001b[32m━━━━━━━━━━━━━━━━━━━━\u001b[0m\u001b[37m\u001b[0m \u001b[1m0s\u001b[0m 45ms/step - accuracy: 0.9627 - loss: 0.2056 - val_accuracy: 0.7667 - val_loss: 12.8179\n",
            "Epoch 7/70\n",
            "\u001b[1m4/4\u001b[0m \u001b[32m━━━━━━━━━━━━━━━━━━━━\u001b[0m\u001b[37m\u001b[0m \u001b[1m0s\u001b[0m 44ms/step - accuracy: 0.9767 - loss: 0.0870 - val_accuracy: 0.8000 - val_loss: 10.2341\n",
            "Epoch 8/70\n",
            "\u001b[1m4/4\u001b[0m \u001b[32m━━━━━━━━━━━━━━━━━━━━\u001b[0m\u001b[37m\u001b[0m \u001b[1m0s\u001b[0m 44ms/step - accuracy: 0.9625 - loss: 0.1891 - val_accuracy: 0.8000 - val_loss: 7.1437\n",
            "Epoch 9/70\n",
            "\u001b[1m4/4\u001b[0m \u001b[32m━━━━━━━━━━━━━━━━━━━━\u001b[0m\u001b[37m\u001b[0m \u001b[1m0s\u001b[0m 44ms/step - accuracy: 0.9798 - loss: 0.1726 - val_accuracy: 0.8000 - val_loss: 4.8715\n",
            "Epoch 10/70\n",
            "\u001b[1m4/4\u001b[0m \u001b[32m━━━━━━━━━━━━━━━━━━━━\u001b[0m\u001b[37m\u001b[0m \u001b[1m0s\u001b[0m 42ms/step - accuracy: 0.9767 - loss: 0.1938 - val_accuracy: 0.8000 - val_loss: 3.4083\n",
            "Epoch 11/70\n",
            "\u001b[1m4/4\u001b[0m \u001b[32m━━━━━━━━━━━━━━━━━━━━\u001b[0m\u001b[37m\u001b[0m \u001b[1m0s\u001b[0m 42ms/step - accuracy: 0.9785 - loss: 0.1333 - val_accuracy: 0.8000 - val_loss: 2.2777\n",
            "Epoch 12/70\n",
            "\u001b[1m4/4\u001b[0m \u001b[32m━━━━━━━━━━━━━━━━━━━━\u001b[0m\u001b[37m\u001b[0m \u001b[1m0s\u001b[0m 41ms/step - accuracy: 0.9860 - loss: 0.0789 - val_accuracy: 0.8000 - val_loss: 1.5305\n",
            "Epoch 13/70\n",
            "\u001b[1m4/4\u001b[0m \u001b[32m━━━━━━━━━━━━━━━━━━━━\u001b[0m\u001b[37m\u001b[0m \u001b[1m0s\u001b[0m 46ms/step - accuracy: 0.9819 - loss: 0.0870 - val_accuracy: 0.8000 - val_loss: 0.9582\n",
            "Epoch 14/70\n",
            "\u001b[1m4/4\u001b[0m \u001b[32m━━━━━━━━━━━━━━━━━━━━\u001b[0m\u001b[37m\u001b[0m \u001b[1m0s\u001b[0m 55ms/step - accuracy: 0.9860 - loss: 0.1122 - val_accuracy: 0.8333 - val_loss: 0.6050\n",
            "Epoch 15/70\n",
            "\u001b[1m4/4\u001b[0m \u001b[32m━━━━━━━━━━━━━━━━━━━━\u001b[0m\u001b[37m\u001b[0m \u001b[1m0s\u001b[0m 42ms/step - accuracy: 0.9827 - loss: 0.0685 - val_accuracy: 0.9333 - val_loss: 0.3646\n",
            "Epoch 16/70\n",
            "\u001b[1m4/4\u001b[0m \u001b[32m━━━━━━━━━━━━━━━━━━━━\u001b[0m\u001b[37m\u001b[0m \u001b[1m0s\u001b[0m 42ms/step - accuracy: 0.9615 - loss: 0.1119 - val_accuracy: 1.0000 - val_loss: 0.3189\n",
            "Epoch 17/70\n",
            "\u001b[1m4/4\u001b[0m \u001b[32m━━━━━━━━━━━━━━━━━━━━\u001b[0m\u001b[37m\u001b[0m \u001b[1m0s\u001b[0m 44ms/step - accuracy: 0.9967 - loss: 0.0348 - val_accuracy: 1.0000 - val_loss: 0.3340\n",
            "Epoch 18/70\n",
            "\u001b[1m4/4\u001b[0m \u001b[32m━━━━━━━━━━━━━━━━━━━━\u001b[0m\u001b[37m\u001b[0m \u001b[1m0s\u001b[0m 41ms/step - accuracy: 0.9775 - loss: 0.0949 - val_accuracy: 1.0000 - val_loss: 0.3771\n",
            "Epoch 19/70\n",
            "\u001b[1m4/4\u001b[0m \u001b[32m━━━━━━━━━━━━━━━━━━━━\u001b[0m\u001b[37m\u001b[0m \u001b[1m0s\u001b[0m 54ms/step - accuracy: 0.9798 - loss: 0.0735 - val_accuracy: 0.9667 - val_loss: 0.4441\n",
            "Epoch 20/70\n",
            "\u001b[1m4/4\u001b[0m \u001b[32m━━━━━━━━━━━━━━━━━━━━\u001b[0m\u001b[37m\u001b[0m \u001b[1m0s\u001b[0m 57ms/step - accuracy: 0.9913 - loss: 0.0377 - val_accuracy: 0.8667 - val_loss: 0.4976\n",
            "Epoch 21/70\n",
            "\u001b[1m4/4\u001b[0m \u001b[32m━━━━━━━━━━━━━━━━━━━━\u001b[0m\u001b[37m\u001b[0m \u001b[1m0s\u001b[0m 44ms/step - accuracy: 0.9819 - loss: 0.0898 - val_accuracy: 0.8000 - val_loss: 0.5197\n",
            "Epoch 22/70\n",
            "\u001b[1m4/4\u001b[0m \u001b[32m━━━━━━━━━━━━━━━━━━━━\u001b[0m\u001b[37m\u001b[0m \u001b[1m0s\u001b[0m 45ms/step - accuracy: 0.9860 - loss: 0.0795 - val_accuracy: 0.8000 - val_loss: 0.5475\n",
            "Epoch 23/70\n",
            "\u001b[1m4/4\u001b[0m \u001b[32m━━━━━━━━━━━━━━━━━━━━\u001b[0m\u001b[37m\u001b[0m \u001b[1m0s\u001b[0m 58ms/step - accuracy: 0.9767 - loss: 0.0523 - val_accuracy: 0.8000 - val_loss: 0.5454\n",
            "Epoch 24/70\n",
            "\u001b[1m4/4\u001b[0m \u001b[32m━━━━━━━━━━━━━━━━━━━━\u001b[0m\u001b[37m\u001b[0m \u001b[1m0s\u001b[0m 45ms/step - accuracy: 0.9946 - loss: 0.0446 - val_accuracy: 0.8000 - val_loss: 0.5494\n",
            "Epoch 25/70\n",
            "\u001b[1m4/4\u001b[0m \u001b[32m━━━━━━━━━━━━━━━━━━━━\u001b[0m\u001b[37m\u001b[0m \u001b[1m0s\u001b[0m 44ms/step - accuracy: 0.9933 - loss: 0.0502 - val_accuracy: 0.8000 - val_loss: 0.5306\n",
            "Epoch 26/70\n",
            "\u001b[1m4/4\u001b[0m \u001b[32m━━━━━━━━━━━━━━━━━━━━\u001b[0m\u001b[37m\u001b[0m \u001b[1m0s\u001b[0m 56ms/step - accuracy: 0.9913 - loss: 0.0428 - val_accuracy: 0.8000 - val_loss: 0.5133\n",
            "Epoch 27/70\n",
            "\u001b[1m4/4\u001b[0m \u001b[32m━━━━━━━━━━━━━━━━━━━━\u001b[0m\u001b[37m\u001b[0m \u001b[1m0s\u001b[0m 64ms/step - accuracy: 0.9915 - loss: 0.0640 - val_accuracy: 0.8000 - val_loss: 0.5468\n",
            "Epoch 28/70\n",
            "\u001b[1m4/4\u001b[0m \u001b[32m━━━━━━━━━━━━━━━━━━━━\u001b[0m\u001b[37m\u001b[0m \u001b[1m0s\u001b[0m 64ms/step - accuracy: 0.9852 - loss: 0.1380 - val_accuracy: 0.8000 - val_loss: 0.5932\n",
            "Epoch 29/70\n",
            "\u001b[1m4/4\u001b[0m \u001b[32m━━━━━━━━━━━━━━━━━━━━\u001b[0m\u001b[37m\u001b[0m \u001b[1m0s\u001b[0m 62ms/step - accuracy: 0.9796 - loss: 0.0521 - val_accuracy: 0.8000 - val_loss: 0.5496\n",
            "Epoch 30/70\n",
            "\u001b[1m4/4\u001b[0m \u001b[32m━━━━━━━━━━━━━━━━━━━━\u001b[0m\u001b[37m\u001b[0m \u001b[1m0s\u001b[0m 66ms/step - accuracy: 0.9913 - loss: 0.0585 - val_accuracy: 0.8000 - val_loss: 0.4917\n",
            "Epoch 31/70\n",
            "\u001b[1m4/4\u001b[0m \u001b[32m━━━━━━━━━━━━━━━━━━━━\u001b[0m\u001b[37m\u001b[0m \u001b[1m0s\u001b[0m 65ms/step - accuracy: 0.9946 - loss: 0.0360 - val_accuracy: 0.8000 - val_loss: 0.5191\n",
            "Epoch 32/70\n",
            "\u001b[1m4/4\u001b[0m \u001b[32m━━━━━━━━━━━━━━━━━━━━\u001b[0m\u001b[37m\u001b[0m \u001b[1m0s\u001b[0m 65ms/step - accuracy: 0.9852 - loss: 0.0531 - val_accuracy: 0.8000 - val_loss: 0.5758\n",
            "Epoch 33/70\n",
            "\u001b[1m4/4\u001b[0m \u001b[32m━━━━━━━━━━━━━━━━━━━━\u001b[0m\u001b[37m\u001b[0m \u001b[1m0s\u001b[0m 65ms/step - accuracy: 0.9704 - loss: 0.0849 - val_accuracy: 0.8000 - val_loss: 0.5868\n",
            "Epoch 34/70\n",
            "\u001b[1m4/4\u001b[0m \u001b[32m━━━━━━━━━━━━━━━━━━━━\u001b[0m\u001b[37m\u001b[0m \u001b[1m0s\u001b[0m 65ms/step - accuracy: 0.9860 - loss: 0.0691 - val_accuracy: 0.8000 - val_loss: 0.5968\n",
            "Epoch 35/70\n",
            "\u001b[1m4/4\u001b[0m \u001b[32m━━━━━━━━━━━━━━━━━━━━\u001b[0m\u001b[37m\u001b[0m \u001b[1m0s\u001b[0m 58ms/step - accuracy: 1.0000 - loss: 0.0320 - val_accuracy: 0.8000 - val_loss: 0.6208\n",
            "Epoch 36/70\n",
            "\u001b[1m4/4\u001b[0m \u001b[32m━━━━━━━━━━━━━━━━━━━━\u001b[0m\u001b[37m\u001b[0m \u001b[1m0s\u001b[0m 60ms/step - accuracy: 0.9819 - loss: 0.0726 - val_accuracy: 0.8000 - val_loss: 0.6140\n",
            "Epoch 37/70\n",
            "\u001b[1m4/4\u001b[0m \u001b[32m━━━━━━━━━━━━━━━━━━━━\u001b[0m\u001b[37m\u001b[0m \u001b[1m0s\u001b[0m 44ms/step - accuracy: 0.9913 - loss: 0.0250 - val_accuracy: 0.8000 - val_loss: 0.5977\n",
            "Epoch 38/70\n",
            "\u001b[1m4/4\u001b[0m \u001b[32m━━━━━━━━━━━━━━━━━━━━\u001b[0m\u001b[37m\u001b[0m \u001b[1m0s\u001b[0m 45ms/step - accuracy: 0.9852 - loss: 0.0617 - val_accuracy: 0.8000 - val_loss: 0.5945\n",
            "Epoch 39/70\n",
            "\u001b[1m4/4\u001b[0m \u001b[32m━━━━━━━━━━━━━━━━━━━━\u001b[0m\u001b[37m\u001b[0m \u001b[1m0s\u001b[0m 49ms/step - accuracy: 0.9852 - loss: 0.0553 - val_accuracy: 0.8000 - val_loss: 0.5877\n",
            "Epoch 40/70\n",
            "\u001b[1m4/4\u001b[0m \u001b[32m━━━━━━━━━━━━━━━━━━━━\u001b[0m\u001b[37m\u001b[0m \u001b[1m0s\u001b[0m 43ms/step - accuracy: 0.9860 - loss: 0.0548 - val_accuracy: 0.7333 - val_loss: 0.5761\n",
            "Epoch 41/70\n",
            "\u001b[1m4/4\u001b[0m \u001b[32m━━━━━━━━━━━━━━━━━━━━\u001b[0m\u001b[37m\u001b[0m \u001b[1m0s\u001b[0m 41ms/step - accuracy: 1.0000 - loss: 0.0205 - val_accuracy: 0.7667 - val_loss: 0.5106\n",
            "Epoch 42/70\n",
            "\u001b[1m4/4\u001b[0m \u001b[32m━━━━━━━━━━━━━━━━━━━━\u001b[0m\u001b[37m\u001b[0m \u001b[1m0s\u001b[0m 40ms/step - accuracy: 0.9829 - loss: 0.0510 - val_accuracy: 0.8000 - val_loss: 0.6140\n",
            "Epoch 43/70\n",
            "\u001b[1m4/4\u001b[0m \u001b[32m━━━━━━━━━━━━━━━━━━━━\u001b[0m\u001b[37m\u001b[0m \u001b[1m0s\u001b[0m 41ms/step - accuracy: 0.9852 - loss: 0.0524 - val_accuracy: 0.8000 - val_loss: 0.7815\n",
            "Epoch 44/70\n",
            "\u001b[1m4/4\u001b[0m \u001b[32m━━━━━━━━━━━━━━━━━━━━\u001b[0m\u001b[37m\u001b[0m \u001b[1m0s\u001b[0m 42ms/step - accuracy: 0.9819 - loss: 0.0476 - val_accuracy: 0.8000 - val_loss: 0.8675\n",
            "Epoch 45/70\n",
            "\u001b[1m4/4\u001b[0m \u001b[32m━━━━━━━━━━━━━━━━━━━━\u001b[0m\u001b[37m\u001b[0m \u001b[1m0s\u001b[0m 41ms/step - accuracy: 0.9915 - loss: 0.0577 - val_accuracy: 0.8000 - val_loss: 0.9417\n",
            "Epoch 46/70\n",
            "\u001b[1m4/4\u001b[0m \u001b[32m━━━━━━━━━━━━━━━━━━━━\u001b[0m\u001b[37m\u001b[0m \u001b[1m0s\u001b[0m 43ms/step - accuracy: 0.9879 - loss: 0.0413 - val_accuracy: 0.8000 - val_loss: 0.9668\n",
            "Epoch 47/70\n",
            "\u001b[1m4/4\u001b[0m \u001b[32m━━━━━━━━━━━━━━━━━━━━\u001b[0m\u001b[37m\u001b[0m \u001b[1m0s\u001b[0m 54ms/step - accuracy: 0.9946 - loss: 0.0227 - val_accuracy: 0.8000 - val_loss: 1.0144\n",
            "Epoch 48/70\n",
            "\u001b[1m4/4\u001b[0m \u001b[32m━━━━━━━━━━━━━━━━━━━━\u001b[0m\u001b[37m\u001b[0m \u001b[1m0s\u001b[0m 54ms/step - accuracy: 0.9852 - loss: 0.0268 - val_accuracy: 0.8000 - val_loss: 1.0737\n",
            "Epoch 49/70\n",
            "\u001b[1m4/4\u001b[0m \u001b[32m━━━━━━━━━━━━━━━━━━━━\u001b[0m\u001b[37m\u001b[0m \u001b[1m0s\u001b[0m 54ms/step - accuracy: 1.0000 - loss: 0.0186 - val_accuracy: 0.6000 - val_loss: 1.1239\n",
            "Epoch 50/70\n",
            "\u001b[1m4/4\u001b[0m \u001b[32m━━━━━━━━━━━━━━━━━━━━\u001b[0m\u001b[37m\u001b[0m \u001b[1m0s\u001b[0m 55ms/step - accuracy: 1.0000 - loss: 0.0227 - val_accuracy: 0.5667 - val_loss: 1.1331\n",
            "Epoch 51/70\n",
            "\u001b[1m4/4\u001b[0m \u001b[32m━━━━━━━━━━━━━━━━━━━━\u001b[0m\u001b[37m\u001b[0m \u001b[1m0s\u001b[0m 40ms/step - accuracy: 0.9946 - loss: 0.0395 - val_accuracy: 0.6333 - val_loss: 1.1039\n",
            "Epoch 52/70\n",
            "\u001b[1m4/4\u001b[0m \u001b[32m━━━━━━━━━━━━━━━━━━━━\u001b[0m\u001b[37m\u001b[0m \u001b[1m0s\u001b[0m 55ms/step - accuracy: 0.9892 - loss: 0.0314 - val_accuracy: 0.5667 - val_loss: 1.0464\n",
            "Epoch 53/70\n",
            "\u001b[1m4/4\u001b[0m \u001b[32m━━━━━━━━━━━━━━━━━━━━\u001b[0m\u001b[37m\u001b[0m \u001b[1m0s\u001b[0m 40ms/step - accuracy: 0.9827 - loss: 0.0341 - val_accuracy: 0.6667 - val_loss: 0.7910\n",
            "Epoch 54/70\n",
            "\u001b[1m4/4\u001b[0m \u001b[32m━━━━━━━━━━━━━━━━━━━━\u001b[0m\u001b[37m\u001b[0m \u001b[1m0s\u001b[0m 42ms/step - accuracy: 1.0000 - loss: 0.0131 - val_accuracy: 0.8333 - val_loss: 0.4436\n",
            "Epoch 55/70\n",
            "\u001b[1m4/4\u001b[0m \u001b[32m━━━━━━━━━━━━━━━━━━━━\u001b[0m\u001b[37m\u001b[0m \u001b[1m0s\u001b[0m 59ms/step - accuracy: 0.9915 - loss: 0.0223 - val_accuracy: 0.9000 - val_loss: 0.3261\n",
            "Epoch 56/70\n",
            "\u001b[1m4/4\u001b[0m \u001b[32m━━━━━━━━━━━━━━━━━━━━\u001b[0m\u001b[37m\u001b[0m \u001b[1m0s\u001b[0m 40ms/step - accuracy: 0.9946 - loss: 0.0311 - val_accuracy: 0.8333 - val_loss: 0.3687\n",
            "Epoch 57/70\n",
            "\u001b[1m4/4\u001b[0m \u001b[32m━━━━━━━━━━━━━━━━━━━━\u001b[0m\u001b[37m\u001b[0m \u001b[1m0s\u001b[0m 40ms/step - accuracy: 0.9946 - loss: 0.0223 - val_accuracy: 0.8000 - val_loss: 0.4588\n",
            "Epoch 58/70\n",
            "\u001b[1m4/4\u001b[0m \u001b[32m━━━━━━━━━━━━━━━━━━━━\u001b[0m\u001b[37m\u001b[0m \u001b[1m0s\u001b[0m 40ms/step - accuracy: 0.9852 - loss: 0.0217 - val_accuracy: 0.8000 - val_loss: 0.5401\n",
            "Epoch 59/70\n",
            "\u001b[1m4/4\u001b[0m \u001b[32m━━━━━━━━━━━━━━━━━━━━\u001b[0m\u001b[37m\u001b[0m \u001b[1m0s\u001b[0m 40ms/step - accuracy: 0.9915 - loss: 0.0301 - val_accuracy: 0.8000 - val_loss: 0.5973\n",
            "Epoch 60/70\n",
            "\u001b[1m4/4\u001b[0m \u001b[32m━━━━━━━━━━━━━━━━━━━━\u001b[0m\u001b[37m\u001b[0m \u001b[1m0s\u001b[0m 40ms/step - accuracy: 0.9915 - loss: 0.0319 - val_accuracy: 0.8000 - val_loss: 0.6457\n",
            "Epoch 61/70\n",
            "\u001b[1m4/4\u001b[0m \u001b[32m━━━━━━━━━━━━━━━━━━━━\u001b[0m\u001b[37m\u001b[0m \u001b[1m0s\u001b[0m 40ms/step - accuracy: 0.9946 - loss: 0.0242 - val_accuracy: 0.8000 - val_loss: 0.6414\n",
            "Epoch 62/70\n",
            "\u001b[1m4/4\u001b[0m \u001b[32m━━━━━━━━━━━━━━━━━━━━\u001b[0m\u001b[37m\u001b[0m \u001b[1m0s\u001b[0m 41ms/step - accuracy: 0.9946 - loss: 0.0192 - val_accuracy: 0.8000 - val_loss: 0.6623\n",
            "Epoch 63/70\n",
            "\u001b[1m4/4\u001b[0m \u001b[32m━━━━━━━━━━━━━━━━━━━━\u001b[0m\u001b[37m\u001b[0m \u001b[1m0s\u001b[0m 40ms/step - accuracy: 0.9829 - loss: 0.0357 - val_accuracy: 0.8000 - val_loss: 0.6757\n",
            "Epoch 64/70\n",
            "\u001b[1m4/4\u001b[0m \u001b[32m━━━━━━━━━━━━━━━━━━━━\u001b[0m\u001b[37m\u001b[0m \u001b[1m0s\u001b[0m 54ms/step - accuracy: 0.9946 - loss: 0.0190 - val_accuracy: 0.8000 - val_loss: 0.5510\n",
            "Epoch 65/70\n",
            "\u001b[1m4/4\u001b[0m \u001b[32m━━━━━━━━━━━━━━━━━━━━\u001b[0m\u001b[37m\u001b[0m \u001b[1m0s\u001b[0m 41ms/step - accuracy: 0.9767 - loss: 0.0257 - val_accuracy: 0.8000 - val_loss: 0.4651\n",
            "Epoch 66/70\n",
            "\u001b[1m4/4\u001b[0m \u001b[32m━━━━━━━━━━━━━━━━━━━━\u001b[0m\u001b[37m\u001b[0m \u001b[1m0s\u001b[0m 43ms/step - accuracy: 0.9798 - loss: 0.0390 - val_accuracy: 0.8000 - val_loss: 0.4238\n",
            "Epoch 67/70\n",
            "\u001b[1m4/4\u001b[0m \u001b[32m━━━━━━━━━━━━━━━━━━━━\u001b[0m\u001b[37m\u001b[0m \u001b[1m0s\u001b[0m 54ms/step - accuracy: 1.0000 - loss: 0.0094 - val_accuracy: 0.8000 - val_loss: 0.3884\n",
            "Epoch 68/70\n",
            "\u001b[1m4/4\u001b[0m \u001b[32m━━━━━━━━━━━━━━━━━━━━\u001b[0m\u001b[37m\u001b[0m \u001b[1m0s\u001b[0m 58ms/step - accuracy: 0.9852 - loss: 0.0389 - val_accuracy: 0.8000 - val_loss: 0.4069\n",
            "Epoch 69/70\n",
            "\u001b[1m4/4\u001b[0m \u001b[32m━━━━━━━━━━━━━━━━━━━━\u001b[0m\u001b[37m\u001b[0m \u001b[1m0s\u001b[0m 55ms/step - accuracy: 0.9852 - loss: 0.0364 - val_accuracy: 0.8000 - val_loss: 0.4290\n",
            "Epoch 70/70\n",
            "\u001b[1m4/4\u001b[0m \u001b[32m━━━━━━━━━━━━━━━━━━━━\u001b[0m\u001b[37m\u001b[0m \u001b[1m0s\u001b[0m 57ms/step - accuracy: 1.0000 - loss: 0.0134 - val_accuracy: 0.8000 - val_loss: 0.4313\n",
            "\u001b[1m1/1\u001b[0m \u001b[32m━━━━━━━━━━━━━━━━━━━━\u001b[0m\u001b[37m\u001b[0m \u001b[1m0s\u001b[0m 44ms/step - accuracy: 0.8000 - loss: 0.4313\n",
            "Test Loss: 0.43134668469429016\n",
            "Test Accuracy: 0.800000011920929\n"
          ]
        }
      ]
    },
    {
      "cell_type": "markdown",
      "source": [
        "# 分類精度を計測しよう\n",
        "- 訓練に使わなかった、20%のデータを用いて、正しく分類できているかをテストします\n",
        "- 制度の指標には、正解率 (Accuracy)を利用します。\n",
        "  - **Accuracy**: 全データのうち、正しく分類されたデータの割合。正しいとは、分類結果と、そのサイト名 (ラベル)が一致することを指す。"
      ],
      "metadata": {
        "id": "7956qV4otqJB"
      }
    },
    {
      "cell_type": "code",
      "source": [
        "predictions = model.predict(X_test)\n",
        "predicted_labels = np.argmax(predictions, axis=1)\n",
        "actual_labels = np.argmax(y_test_cat, axis=1)\n",
        "\n",
        "# 予測結果と実際のラベルを表示\n",
        "predicted_sites = label_encoder.inverse_transform(predicted_labels)\n",
        "actual_sites = label_encoder.inverse_transform(actual_labels)\n",
        "\n",
        "# 全ての結果（分類器の予測結果と正しいサイト名の組み合わせ）を表示\n",
        "\"\"\"\n",
        "for i in range(len(X_test)):\n",
        "    print(f'Index: {i}')\n",
        "    print(f'Actual site: {actual_sites[i]}')\n",
        "    print(f'Predicted site: {predicted_sites[i]}')\n",
        "    print('---')\n",
        "\"\"\"\n",
        "\n",
        "import pandas as pd\n",
        "# 予測結果と実際のラベルをデータフレームに変換\n",
        "results = pd.DataFrame({\n",
        "    'Actual site': actual_sites,\n",
        "    'Predicted site': predicted_sites\n",
        "})\n",
        "\n",
        "# 結果をCSVファイルに保存（index=Falseでインデックスを省略）\n",
        "results.to_csv('results.csv', index=False)\n",
        "\n",
        "print(\"---Results---\")\n",
        "\n",
        "# 各サイトのラベルを取得\n",
        "unique_sites = label_encoder.classes_\n",
        "\n",
        "# サイトごとの正答率を計算\n",
        "correct_counts = {site: 0 for site in unique_sites}\n",
        "total_counts = {site: 0 for site in unique_sites}\n",
        "\n",
        "for actual, predicted in zip(actual_sites, predicted_sites):\n",
        "    total_counts[actual] += 1\n",
        "    if actual == predicted:\n",
        "        correct_counts[actual] += 1\n",
        "\n",
        "accuracy_per_site = {site: correct_counts[site] / total_counts[site] for site in unique_sites}\n",
        "\n",
        "# 正答率を表示\n",
        "for site, accuracy in accuracy_per_site.items():\n",
        "    print(f'Site: {site}, Accuracy: {accuracy:.2f}')\n",
        "\n",
        "from collections import defaultdict\n",
        "\n",
        "# 間違えた場合の集計\n",
        "misclassification_counts = {site: defaultdict(int) for site in unique_sites}\n",
        "\n",
        "for actual, predicted in zip(actual_sites, predicted_sites):\n",
        "    if actual != predicted:\n",
        "        misclassification_counts[actual][predicted] += 1\n",
        "\n",
        "# 各サイトごとに間違えた他サイトの割合を計算\n",
        "misclassification_ratios = {}\n",
        "\n",
        "for site in unique_sites:\n",
        "    total_misclassifications = sum(misclassification_counts[site].values())\n",
        "    if total_misclassifications > 0:\n",
        "        misclassification_ratios[site] = {predicted: count / total_misclassifications for predicted, count in misclassification_counts[site].items()}\n",
        "    else:\n",
        "        misclassification_ratios[site] = {}\n",
        "print(\"---Misclassified---\")\n",
        "# 結果を表示\n",
        "for site, ratios in misclassification_ratios.items():\n",
        "    print(f'Site: {site}')\n",
        "    for misclassified_site, ratio in ratios.items():\n",
        "        print(f'  Misclassified as {misclassified_site}: {ratio:.2f}')"
      ],
      "metadata": {
        "colab": {
          "base_uri": "https://localhost:8080/"
        },
        "id": "HRV3UC4TiQro",
        "outputId": "30f6fb05-95e6-4a5f-e26f-5ea712736a5f"
      },
      "execution_count": 18,
      "outputs": [
        {
          "output_type": "stream",
          "name": "stdout",
          "text": [
            "\u001b[1m1/1\u001b[0m \u001b[32m━━━━━━━━━━━━━━━━━━━━\u001b[0m\u001b[37m\u001b[0m \u001b[1m1s\u001b[0m 1s/step\n",
            "---Results---\n",
            "Site: amazonjp, Accuracy: 1.00\n",
            "Site: baidu, Accuracy: 1.00\n",
            "Site: googlejp, Accuracy: 1.00\n",
            "Site: osakau, Accuracy: 0.00\n",
            "Site: rakuten, Accuracy: 1.00\n",
            "---Misclassified---\n",
            "Site: amazonjp\n",
            "Site: baidu\n",
            "Site: googlejp\n",
            "Site: osakau\n",
            "  Misclassified as rakuten: 1.00\n",
            "Site: rakuten\n"
          ]
        }
      ]
    },
    {
      "cell_type": "markdown",
      "source": [
        "# **成果をレポートにまとめよう**\n",
        "\n",
        "- パケット列の特徴量の計測結果\n",
        "  - 各ウェブサイトの特徴量のグラフ\n",
        "- ウェブサイト毎の特徴量に関する考察\n",
        "  - 異なるウェブサイトで、特徴量に差異があるか・ないか\n",
        "  - なぜ、差異が生じるのか・生じないのか、の理由\n",
        "- ウェブサイトの分類精度の計測結果\n",
        "  - テストデータを用いて計測した Accuracy の結果を、ウェブサイト毎にまとめよう\n",
        "- ウェブサイトの分類精度の結果に関する考察\n",
        "  - 正しく分類できた・できなかった\n",
        "  - その理由\n",
        "- ウェブページの分類に関する考察 (時間に余裕がある人だけで良い)\n",
        "  - ウェブサイトとウェブページの分類について、気づいた違いについて述べよ"
      ],
      "metadata": {
        "id": "kznl-Q84uea4"
      }
    },
    {
      "cell_type": "markdown",
      "source": [
        "# **パケット列の特徴量の計測結果**\n",
        "\n",
        "- 上部で出力したグラフを右クリックでコピーして来る\n",
        "- 以下の空欄をクリックし、キー\"Ctrl+V\"を押して貼り付け\n"
      ],
      "metadata": {
        "id": "0gTrL9fvvM-g"
      }
    },
    {
      "cell_type": "markdown",
      "source": [
        "## ウェブサイト毎の特徴量に関する考察\n",
        "(**ダブルクリックし、以下に記入してください**)\n"
      ],
      "metadata": {
        "id": "KNJrBsJhvoPo"
      }
    },
    {
      "cell_type": "markdown",
      "source": [
        "## ウェブサイトの分類精度の計測結果\n",
        "(**ダブルクリックし、以下に記入してください**)\n",
        "\n"
      ],
      "metadata": {
        "id": "hPMMG1GRvome"
      }
    },
    {
      "cell_type": "markdown",
      "source": [
        "## ウェブサイトの分類精度の結果に関する考察\n",
        "(**ダブルクリックし、以下に記入してください**)\n",
        "\n"
      ],
      "metadata": {
        "id": "mCVjI0PVvo7r"
      }
    },
    {
      "cell_type": "markdown",
      "source": [
        "# ウェブページの分類に関する考察 (時間に余裕がある人だけで良い)\n",
        "(**ダブルクリックし、以下に記入してください**)"
      ],
      "metadata": {
        "id": "F8-f7wYXNBMM"
      }
    }
  ]
}
